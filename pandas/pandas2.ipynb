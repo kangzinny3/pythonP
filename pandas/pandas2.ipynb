{
 "cells": [
  {
   "cell_type": "code",
   "execution_count": 1,
   "metadata": {},
   "outputs": [],
   "source": [
    "import pandas as pd"
   ]
  },
  {
   "cell_type": "code",
   "execution_count": 2,
   "metadata": {},
   "outputs": [],
   "source": [
    "import numpy as np"
   ]
  },
  {
   "cell_type": "code",
   "execution_count": 3,
   "metadata": {},
   "outputs": [],
   "source": [
    "import matplotlib.pyplot as plt"
   ]
  },
  {
   "cell_type": "code",
   "execution_count": 5,
   "metadata": {},
   "outputs": [
    {
     "data": {
      "text/plain": [
       "DatetimeIndex(['2013-01-01', '2013-01-02', '2013-01-03', '2013-01-04',\n",
       "               '2013-01-05', '2013-01-06'],\n",
       "              dtype='datetime64[ns]', freq='D')"
      ]
     },
     "execution_count": 5,
     "metadata": {},
     "output_type": "execute_result"
    }
   ],
   "source": [
    "dates = pd.date_range('20130101', periods=6)\n",
    "dates"
   ]
  },
  {
   "cell_type": "code",
   "execution_count": 6,
   "metadata": {},
   "outputs": [
    {
     "data": {
      "text/html": [
       "<div>\n",
       "<style scoped>\n",
       "    .dataframe tbody tr th:only-of-type {\n",
       "        vertical-align: middle;\n",
       "    }\n",
       "\n",
       "    .dataframe tbody tr th {\n",
       "        vertical-align: top;\n",
       "    }\n",
       "\n",
       "    .dataframe thead th {\n",
       "        text-align: right;\n",
       "    }\n",
       "</style>\n",
       "<table border=\"1\" class=\"dataframe\">\n",
       "  <thead>\n",
       "    <tr style=\"text-align: right;\">\n",
       "      <th></th>\n",
       "      <th>A</th>\n",
       "      <th>B</th>\n",
       "      <th>C</th>\n",
       "      <th>D</th>\n",
       "    </tr>\n",
       "  </thead>\n",
       "  <tbody>\n",
       "    <tr>\n",
       "      <th>2013-01-01</th>\n",
       "      <td>-1.617695</td>\n",
       "      <td>0.113909</td>\n",
       "      <td>1.274828</td>\n",
       "      <td>1.876087</td>\n",
       "    </tr>\n",
       "    <tr>\n",
       "      <th>2013-01-02</th>\n",
       "      <td>1.255651</td>\n",
       "      <td>-0.747050</td>\n",
       "      <td>0.944090</td>\n",
       "      <td>-0.563807</td>\n",
       "    </tr>\n",
       "    <tr>\n",
       "      <th>2013-01-03</th>\n",
       "      <td>-1.175845</td>\n",
       "      <td>-0.134019</td>\n",
       "      <td>-0.912984</td>\n",
       "      <td>1.254396</td>\n",
       "    </tr>\n",
       "    <tr>\n",
       "      <th>2013-01-04</th>\n",
       "      <td>-0.751540</td>\n",
       "      <td>-0.508092</td>\n",
       "      <td>1.764783</td>\n",
       "      <td>0.151066</td>\n",
       "    </tr>\n",
       "    <tr>\n",
       "      <th>2013-01-05</th>\n",
       "      <td>-1.335461</td>\n",
       "      <td>-0.248758</td>\n",
       "      <td>1.547379</td>\n",
       "      <td>1.045849</td>\n",
       "    </tr>\n",
       "    <tr>\n",
       "      <th>2013-01-06</th>\n",
       "      <td>0.491554</td>\n",
       "      <td>-0.607494</td>\n",
       "      <td>0.795467</td>\n",
       "      <td>0.744055</td>\n",
       "    </tr>\n",
       "  </tbody>\n",
       "</table>\n",
       "</div>"
      ],
      "text/plain": [
       "                   A         B         C         D\n",
       "2013-01-01 -1.617695  0.113909  1.274828  1.876087\n",
       "2013-01-02  1.255651 -0.747050  0.944090 -0.563807\n",
       "2013-01-03 -1.175845 -0.134019 -0.912984  1.254396\n",
       "2013-01-04 -0.751540 -0.508092  1.764783  0.151066\n",
       "2013-01-05 -1.335461 -0.248758  1.547379  1.045849\n",
       "2013-01-06  0.491554 -0.607494  0.795467  0.744055"
      ]
     },
     "execution_count": 6,
     "metadata": {},
     "output_type": "execute_result"
    }
   ],
   "source": [
    "df = pd.DataFrame(np.random.randn(6, 4), index = dates, columns = list('ABCD'))\n",
    "df"
   ]
  },
  {
   "cell_type": "code",
   "execution_count": 7,
   "metadata": {},
   "outputs": [
    {
     "data": {
      "text/plain": [
       "<bound method NDFrame.head of                    A         B         C         D\n",
       "2013-01-01 -1.617695  0.113909  1.274828  1.876087\n",
       "2013-01-02  1.255651 -0.747050  0.944090 -0.563807\n",
       "2013-01-03 -1.175845 -0.134019 -0.912984  1.254396\n",
       "2013-01-04 -0.751540 -0.508092  1.764783  0.151066\n",
       "2013-01-05 -1.335461 -0.248758  1.547379  1.045849\n",
       "2013-01-06  0.491554 -0.607494  0.795467  0.744055>"
      ]
     },
     "execution_count": 7,
     "metadata": {},
     "output_type": "execute_result"
    }
   ],
   "source": [
    "df.head"
   ]
  },
  {
   "cell_type": "code",
   "execution_count": 8,
   "metadata": {},
   "outputs": [
    {
     "data": {
      "text/html": [
       "<div>\n",
       "<style scoped>\n",
       "    .dataframe tbody tr th:only-of-type {\n",
       "        vertical-align: middle;\n",
       "    }\n",
       "\n",
       "    .dataframe tbody tr th {\n",
       "        vertical-align: top;\n",
       "    }\n",
       "\n",
       "    .dataframe thead th {\n",
       "        text-align: right;\n",
       "    }\n",
       "</style>\n",
       "<table border=\"1\" class=\"dataframe\">\n",
       "  <thead>\n",
       "    <tr style=\"text-align: right;\">\n",
       "      <th></th>\n",
       "      <th>A</th>\n",
       "      <th>B</th>\n",
       "      <th>C</th>\n",
       "      <th>D</th>\n",
       "    </tr>\n",
       "  </thead>\n",
       "  <tbody>\n",
       "    <tr>\n",
       "      <th>2013-01-01</th>\n",
       "      <td>-1.617695</td>\n",
       "      <td>0.113909</td>\n",
       "      <td>1.274828</td>\n",
       "      <td>1.876087</td>\n",
       "    </tr>\n",
       "    <tr>\n",
       "      <th>2013-01-02</th>\n",
       "      <td>1.255651</td>\n",
       "      <td>-0.747050</td>\n",
       "      <td>0.944090</td>\n",
       "      <td>-0.563807</td>\n",
       "    </tr>\n",
       "  </tbody>\n",
       "</table>\n",
       "</div>"
      ],
      "text/plain": [
       "                   A         B         C         D\n",
       "2013-01-01 -1.617695  0.113909  1.274828  1.876087\n",
       "2013-01-02  1.255651 -0.747050  0.944090 -0.563807"
      ]
     },
     "execution_count": 8,
     "metadata": {},
     "output_type": "execute_result"
    }
   ],
   "source": [
    "df.head(2)"
   ]
  },
  {
   "cell_type": "code",
   "execution_count": 9,
   "metadata": {},
   "outputs": [
    {
     "data": {
      "text/html": [
       "<div>\n",
       "<style scoped>\n",
       "    .dataframe tbody tr th:only-of-type {\n",
       "        vertical-align: middle;\n",
       "    }\n",
       "\n",
       "    .dataframe tbody tr th {\n",
       "        vertical-align: top;\n",
       "    }\n",
       "\n",
       "    .dataframe thead th {\n",
       "        text-align: right;\n",
       "    }\n",
       "</style>\n",
       "<table border=\"1\" class=\"dataframe\">\n",
       "  <thead>\n",
       "    <tr style=\"text-align: right;\">\n",
       "      <th></th>\n",
       "      <th>A</th>\n",
       "      <th>B</th>\n",
       "      <th>C</th>\n",
       "      <th>D</th>\n",
       "    </tr>\n",
       "  </thead>\n",
       "  <tbody>\n",
       "    <tr>\n",
       "      <th>2013-01-05</th>\n",
       "      <td>-1.335461</td>\n",
       "      <td>-0.248758</td>\n",
       "      <td>1.547379</td>\n",
       "      <td>1.045849</td>\n",
       "    </tr>\n",
       "    <tr>\n",
       "      <th>2013-01-06</th>\n",
       "      <td>0.491554</td>\n",
       "      <td>-0.607494</td>\n",
       "      <td>0.795467</td>\n",
       "      <td>0.744055</td>\n",
       "    </tr>\n",
       "  </tbody>\n",
       "</table>\n",
       "</div>"
      ],
      "text/plain": [
       "                   A         B         C         D\n",
       "2013-01-05 -1.335461 -0.248758  1.547379  1.045849\n",
       "2013-01-06  0.491554 -0.607494  0.795467  0.744055"
      ]
     },
     "execution_count": 9,
     "metadata": {},
     "output_type": "execute_result"
    }
   ],
   "source": [
    "df.tail(2)"
   ]
  },
  {
   "cell_type": "code",
   "execution_count": 10,
   "metadata": {},
   "outputs": [
    {
     "data": {
      "text/plain": [
       "<bound method NDFrame.sample of                    A         B         C         D\n",
       "2013-01-01 -1.617695  0.113909  1.274828  1.876087\n",
       "2013-01-02  1.255651 -0.747050  0.944090 -0.563807\n",
       "2013-01-03 -1.175845 -0.134019 -0.912984  1.254396\n",
       "2013-01-04 -0.751540 -0.508092  1.764783  0.151066\n",
       "2013-01-05 -1.335461 -0.248758  1.547379  1.045849\n",
       "2013-01-06  0.491554 -0.607494  0.795467  0.744055>"
      ]
     },
     "execution_count": 10,
     "metadata": {},
     "output_type": "execute_result"
    }
   ],
   "source": [
    "df.sample"
   ]
  },
  {
   "cell_type": "code",
   "execution_count": 11,
   "metadata": {},
   "outputs": [
    {
     "data": {
      "text/html": [
       "<div>\n",
       "<style scoped>\n",
       "    .dataframe tbody tr th:only-of-type {\n",
       "        vertical-align: middle;\n",
       "    }\n",
       "\n",
       "    .dataframe tbody tr th {\n",
       "        vertical-align: top;\n",
       "    }\n",
       "\n",
       "    .dataframe thead th {\n",
       "        text-align: right;\n",
       "    }\n",
       "</style>\n",
       "<table border=\"1\" class=\"dataframe\">\n",
       "  <thead>\n",
       "    <tr style=\"text-align: right;\">\n",
       "      <th></th>\n",
       "      <th>A</th>\n",
       "      <th>B</th>\n",
       "      <th>C</th>\n",
       "      <th>D</th>\n",
       "    </tr>\n",
       "  </thead>\n",
       "  <tbody>\n",
       "    <tr>\n",
       "      <th>2013-01-04</th>\n",
       "      <td>-0.751540</td>\n",
       "      <td>-0.508092</td>\n",
       "      <td>1.764783</td>\n",
       "      <td>0.151066</td>\n",
       "    </tr>\n",
       "    <tr>\n",
       "      <th>2013-01-02</th>\n",
       "      <td>1.255651</td>\n",
       "      <td>-0.747050</td>\n",
       "      <td>0.944090</td>\n",
       "      <td>-0.563807</td>\n",
       "    </tr>\n",
       "  </tbody>\n",
       "</table>\n",
       "</div>"
      ],
      "text/plain": [
       "                   A         B         C         D\n",
       "2013-01-04 -0.751540 -0.508092  1.764783  0.151066\n",
       "2013-01-02  1.255651 -0.747050  0.944090 -0.563807"
      ]
     },
     "execution_count": 11,
     "metadata": {},
     "output_type": "execute_result"
    }
   ],
   "source": [
    "df.sample(2)"
   ]
  },
  {
   "cell_type": "code",
   "execution_count": 12,
   "metadata": {},
   "outputs": [
    {
     "data": {
      "text/plain": [
       "DatetimeIndex(['2013-01-01', '2013-01-02', '2013-01-03', '2013-01-04',\n",
       "               '2013-01-05', '2013-01-06'],\n",
       "              dtype='datetime64[ns]', freq='D')"
      ]
     },
     "execution_count": 12,
     "metadata": {},
     "output_type": "execute_result"
    }
   ],
   "source": [
    "df.index"
   ]
  },
  {
   "cell_type": "code",
   "execution_count": 13,
   "metadata": {},
   "outputs": [
    {
     "data": {
      "text/plain": [
       "Index(['A', 'B', 'C', 'D'], dtype='object')"
      ]
     },
     "execution_count": 13,
     "metadata": {},
     "output_type": "execute_result"
    }
   ],
   "source": [
    "df.columns"
   ]
  },
  {
   "cell_type": "code",
   "execution_count": 14,
   "metadata": {},
   "outputs": [
    {
     "data": {
      "text/plain": [
       "array([[-1.61769477,  0.11390857,  1.2748284 ,  1.87608693],\n",
       "       [ 1.2556511 , -0.74705018,  0.94408966, -0.56380716],\n",
       "       [-1.17584472, -0.13401857, -0.91298398,  1.25439557],\n",
       "       [-0.75154033, -0.50809197,  1.76478251,  0.15106602],\n",
       "       [-1.33546077, -0.24875799,  1.54737945,  1.0458488 ],\n",
       "       [ 0.49155374, -0.60749446,  0.79546656,  0.74405496]])"
      ]
     },
     "execution_count": 14,
     "metadata": {},
     "output_type": "execute_result"
    }
   ],
   "source": [
    "df.to_numpy()"
   ]
  },
  {
   "cell_type": "code",
   "execution_count": 15,
   "metadata": {},
   "outputs": [
    {
     "data": {
      "text/html": [
       "<div>\n",
       "<style scoped>\n",
       "    .dataframe tbody tr th:only-of-type {\n",
       "        vertical-align: middle;\n",
       "    }\n",
       "\n",
       "    .dataframe tbody tr th {\n",
       "        vertical-align: top;\n",
       "    }\n",
       "\n",
       "    .dataframe thead th {\n",
       "        text-align: right;\n",
       "    }\n",
       "</style>\n",
       "<table border=\"1\" class=\"dataframe\">\n",
       "  <thead>\n",
       "    <tr style=\"text-align: right;\">\n",
       "      <th></th>\n",
       "      <th>A</th>\n",
       "      <th>B</th>\n",
       "      <th>C</th>\n",
       "      <th>D</th>\n",
       "    </tr>\n",
       "  </thead>\n",
       "  <tbody>\n",
       "    <tr>\n",
       "      <th>count</th>\n",
       "      <td>6.000000</td>\n",
       "      <td>6.000000</td>\n",
       "      <td>6.000000</td>\n",
       "      <td>6.000000</td>\n",
       "    </tr>\n",
       "    <tr>\n",
       "      <th>mean</th>\n",
       "      <td>-0.522223</td>\n",
       "      <td>-0.355251</td>\n",
       "      <td>0.902260</td>\n",
       "      <td>0.751274</td>\n",
       "    </tr>\n",
       "    <tr>\n",
       "      <th>std</th>\n",
       "      <td>1.142786</td>\n",
       "      <td>0.322766</td>\n",
       "      <td>0.959916</td>\n",
       "      <td>0.859634</td>\n",
       "    </tr>\n",
       "    <tr>\n",
       "      <th>min</th>\n",
       "      <td>-1.617695</td>\n",
       "      <td>-0.747050</td>\n",
       "      <td>-0.912984</td>\n",
       "      <td>-0.563807</td>\n",
       "    </tr>\n",
       "    <tr>\n",
       "      <th>25%</th>\n",
       "      <td>-1.295557</td>\n",
       "      <td>-0.582644</td>\n",
       "      <td>0.832622</td>\n",
       "      <td>0.299313</td>\n",
       "    </tr>\n",
       "    <tr>\n",
       "      <th>50%</th>\n",
       "      <td>-0.963693</td>\n",
       "      <td>-0.378425</td>\n",
       "      <td>1.109459</td>\n",
       "      <td>0.894952</td>\n",
       "    </tr>\n",
       "    <tr>\n",
       "      <th>75%</th>\n",
       "      <td>0.180780</td>\n",
       "      <td>-0.162703</td>\n",
       "      <td>1.479242</td>\n",
       "      <td>1.202259</td>\n",
       "    </tr>\n",
       "    <tr>\n",
       "      <th>max</th>\n",
       "      <td>1.255651</td>\n",
       "      <td>0.113909</td>\n",
       "      <td>1.764783</td>\n",
       "      <td>1.876087</td>\n",
       "    </tr>\n",
       "  </tbody>\n",
       "</table>\n",
       "</div>"
      ],
      "text/plain": [
       "              A         B         C         D\n",
       "count  6.000000  6.000000  6.000000  6.000000\n",
       "mean  -0.522223 -0.355251  0.902260  0.751274\n",
       "std    1.142786  0.322766  0.959916  0.859634\n",
       "min   -1.617695 -0.747050 -0.912984 -0.563807\n",
       "25%   -1.295557 -0.582644  0.832622  0.299313\n",
       "50%   -0.963693 -0.378425  1.109459  0.894952\n",
       "75%    0.180780 -0.162703  1.479242  1.202259\n",
       "max    1.255651  0.113909  1.764783  1.876087"
      ]
     },
     "execution_count": 15,
     "metadata": {},
     "output_type": "execute_result"
    }
   ],
   "source": [
    "df.describe()    # mean:산술평균값, median:중간값"
   ]
  },
  {
   "cell_type": "code",
   "execution_count": 16,
   "metadata": {},
   "outputs": [
    {
     "data": {
      "text/html": [
       "<div>\n",
       "<style scoped>\n",
       "    .dataframe tbody tr th:only-of-type {\n",
       "        vertical-align: middle;\n",
       "    }\n",
       "\n",
       "    .dataframe tbody tr th {\n",
       "        vertical-align: top;\n",
       "    }\n",
       "\n",
       "    .dataframe thead th {\n",
       "        text-align: right;\n",
       "    }\n",
       "</style>\n",
       "<table border=\"1\" class=\"dataframe\">\n",
       "  <thead>\n",
       "    <tr style=\"text-align: right;\">\n",
       "      <th></th>\n",
       "      <th>A</th>\n",
       "      <th>B</th>\n",
       "      <th>C</th>\n",
       "      <th>D</th>\n",
       "    </tr>\n",
       "  </thead>\n",
       "  <tbody>\n",
       "    <tr>\n",
       "      <th>2013-01-01</th>\n",
       "      <td>-1.617695</td>\n",
       "      <td>0.113909</td>\n",
       "      <td>1.274828</td>\n",
       "      <td>1.876087</td>\n",
       "    </tr>\n",
       "    <tr>\n",
       "      <th>2013-01-02</th>\n",
       "      <td>1.255651</td>\n",
       "      <td>-0.747050</td>\n",
       "      <td>0.944090</td>\n",
       "      <td>-0.563807</td>\n",
       "    </tr>\n",
       "    <tr>\n",
       "      <th>2013-01-03</th>\n",
       "      <td>-1.175845</td>\n",
       "      <td>-0.134019</td>\n",
       "      <td>-0.912984</td>\n",
       "      <td>1.254396</td>\n",
       "    </tr>\n",
       "    <tr>\n",
       "      <th>2013-01-04</th>\n",
       "      <td>-0.751540</td>\n",
       "      <td>-0.508092</td>\n",
       "      <td>1.764783</td>\n",
       "      <td>0.151066</td>\n",
       "    </tr>\n",
       "    <tr>\n",
       "      <th>2013-01-05</th>\n",
       "      <td>-1.335461</td>\n",
       "      <td>-0.248758</td>\n",
       "      <td>1.547379</td>\n",
       "      <td>1.045849</td>\n",
       "    </tr>\n",
       "    <tr>\n",
       "      <th>2013-01-06</th>\n",
       "      <td>0.491554</td>\n",
       "      <td>-0.607494</td>\n",
       "      <td>0.795467</td>\n",
       "      <td>0.744055</td>\n",
       "    </tr>\n",
       "  </tbody>\n",
       "</table>\n",
       "</div>"
      ],
      "text/plain": [
       "                   A         B         C         D\n",
       "2013-01-01 -1.617695  0.113909  1.274828  1.876087\n",
       "2013-01-02  1.255651 -0.747050  0.944090 -0.563807\n",
       "2013-01-03 -1.175845 -0.134019 -0.912984  1.254396\n",
       "2013-01-04 -0.751540 -0.508092  1.764783  0.151066\n",
       "2013-01-05 -1.335461 -0.248758  1.547379  1.045849\n",
       "2013-01-06  0.491554 -0.607494  0.795467  0.744055"
      ]
     },
     "execution_count": 16,
     "metadata": {},
     "output_type": "execute_result"
    }
   ],
   "source": [
    "df"
   ]
  },
  {
   "cell_type": "code",
   "execution_count": 17,
   "metadata": {},
   "outputs": [
    {
     "data": {
      "text/html": [
       "<div>\n",
       "<style scoped>\n",
       "    .dataframe tbody tr th:only-of-type {\n",
       "        vertical-align: middle;\n",
       "    }\n",
       "\n",
       "    .dataframe tbody tr th {\n",
       "        vertical-align: top;\n",
       "    }\n",
       "\n",
       "    .dataframe thead th {\n",
       "        text-align: right;\n",
       "    }\n",
       "</style>\n",
       "<table border=\"1\" class=\"dataframe\">\n",
       "  <thead>\n",
       "    <tr style=\"text-align: right;\">\n",
       "      <th></th>\n",
       "      <th>2013-01-01 00:00:00</th>\n",
       "      <th>2013-01-02 00:00:00</th>\n",
       "      <th>2013-01-03 00:00:00</th>\n",
       "      <th>2013-01-04 00:00:00</th>\n",
       "      <th>2013-01-05 00:00:00</th>\n",
       "      <th>2013-01-06 00:00:00</th>\n",
       "    </tr>\n",
       "  </thead>\n",
       "  <tbody>\n",
       "    <tr>\n",
       "      <th>A</th>\n",
       "      <td>-1.617695</td>\n",
       "      <td>1.255651</td>\n",
       "      <td>-1.175845</td>\n",
       "      <td>-0.751540</td>\n",
       "      <td>-1.335461</td>\n",
       "      <td>0.491554</td>\n",
       "    </tr>\n",
       "    <tr>\n",
       "      <th>B</th>\n",
       "      <td>0.113909</td>\n",
       "      <td>-0.747050</td>\n",
       "      <td>-0.134019</td>\n",
       "      <td>-0.508092</td>\n",
       "      <td>-0.248758</td>\n",
       "      <td>-0.607494</td>\n",
       "    </tr>\n",
       "    <tr>\n",
       "      <th>C</th>\n",
       "      <td>1.274828</td>\n",
       "      <td>0.944090</td>\n",
       "      <td>-0.912984</td>\n",
       "      <td>1.764783</td>\n",
       "      <td>1.547379</td>\n",
       "      <td>0.795467</td>\n",
       "    </tr>\n",
       "    <tr>\n",
       "      <th>D</th>\n",
       "      <td>1.876087</td>\n",
       "      <td>-0.563807</td>\n",
       "      <td>1.254396</td>\n",
       "      <td>0.151066</td>\n",
       "      <td>1.045849</td>\n",
       "      <td>0.744055</td>\n",
       "    </tr>\n",
       "  </tbody>\n",
       "</table>\n",
       "</div>"
      ],
      "text/plain": [
       "   2013-01-01  2013-01-02  2013-01-03  2013-01-04  2013-01-05  2013-01-06\n",
       "A   -1.617695    1.255651   -1.175845   -0.751540   -1.335461    0.491554\n",
       "B    0.113909   -0.747050   -0.134019   -0.508092   -0.248758   -0.607494\n",
       "C    1.274828    0.944090   -0.912984    1.764783    1.547379    0.795467\n",
       "D    1.876087   -0.563807    1.254396    0.151066    1.045849    0.744055"
      ]
     },
     "execution_count": 17,
     "metadata": {},
     "output_type": "execute_result"
    }
   ],
   "source": [
    "df.T"
   ]
  },
  {
   "cell_type": "code",
   "execution_count": 18,
   "metadata": {
    "scrolled": true
   },
   "outputs": [
    {
     "data": {
      "text/plain": [
       "\u001b[1;31mSignature:\u001b[0m\n",
       "\u001b[0mdf\u001b[0m\u001b[1;33m.\u001b[0m\u001b[0msort_index\u001b[0m\u001b[1;33m(\u001b[0m\u001b[1;33m\n",
       "\u001b[0m    \u001b[0maxis\u001b[0m\u001b[1;33m=\u001b[0m\u001b[1;36m0\u001b[0m\u001b[1;33m,\u001b[0m\u001b[1;33m\n",
       "\u001b[0m    \u001b[0mlevel\u001b[0m\u001b[1;33m=\u001b[0m\u001b[1;32mNone\u001b[0m\u001b[1;33m,\u001b[0m\u001b[1;33m\n",
       "\u001b[0m    \u001b[0mascending\u001b[0m\u001b[1;33m=\u001b[0m\u001b[1;32mTrue\u001b[0m\u001b[1;33m,\u001b[0m\u001b[1;33m\n",
       "\u001b[0m    \u001b[0minplace\u001b[0m\u001b[1;33m=\u001b[0m\u001b[1;32mFalse\u001b[0m\u001b[1;33m,\u001b[0m\u001b[1;33m\n",
       "\u001b[0m    \u001b[0mkind\u001b[0m\u001b[1;33m=\u001b[0m\u001b[1;34m'quicksort'\u001b[0m\u001b[1;33m,\u001b[0m\u001b[1;33m\n",
       "\u001b[0m    \u001b[0mna_position\u001b[0m\u001b[1;33m=\u001b[0m\u001b[1;34m'last'\u001b[0m\u001b[1;33m,\u001b[0m\u001b[1;33m\n",
       "\u001b[0m    \u001b[0msort_remaining\u001b[0m\u001b[1;33m=\u001b[0m\u001b[1;32mTrue\u001b[0m\u001b[1;33m,\u001b[0m\u001b[1;33m\n",
       "\u001b[0m    \u001b[0mby\u001b[0m\u001b[1;33m=\u001b[0m\u001b[1;32mNone\u001b[0m\u001b[1;33m,\u001b[0m\u001b[1;33m\n",
       "\u001b[0m\u001b[1;33m)\u001b[0m\u001b[1;33m\u001b[0m\u001b[1;33m\u001b[0m\u001b[0m\n",
       "\u001b[1;31mDocstring:\u001b[0m\n",
       "Sort object by labels (along an axis)\n",
       "\n",
       "Parameters\n",
       "----------\n",
       "axis : index, columns to direct sorting\n",
       "level : int or level name or list of ints or list of level names\n",
       "    if not None, sort on values in specified index level(s)\n",
       "ascending : boolean, default True\n",
       "    Sort ascending vs. descending\n",
       "inplace : bool, default False\n",
       "    if True, perform operation in-place\n",
       "kind : {'quicksort', 'mergesort', 'heapsort'}, default 'quicksort'\n",
       "     Choice of sorting algorithm. See also ndarray.np.sort for more\n",
       "     information.  `mergesort` is the only stable algorithm. For\n",
       "     DataFrames, this option is only applied when sorting on a single\n",
       "     column or label.\n",
       "na_position : {'first', 'last'}, default 'last'\n",
       "     `first` puts NaNs at the beginning, `last` puts NaNs at the end.\n",
       "     Not implemented for MultiIndex.\n",
       "sort_remaining : bool, default True\n",
       "    if true and sorting by level and index is multilevel, sort by other\n",
       "    levels too (in order) after sorting by specified level\n",
       "\n",
       "Returns\n",
       "-------\n",
       "sorted_obj : DataFrame\n",
       "\u001b[1;31mFile:\u001b[0m      c:\\programdata\\anaconda3\\lib\\site-packages\\pandas\\core\\frame.py\n",
       "\u001b[1;31mType:\u001b[0m      method\n"
      ]
     },
     "metadata": {},
     "output_type": "display_data"
    }
   ],
   "source": [
    "df.sort_index?    "
   ]
  },
  {
   "cell_type": "code",
   "execution_count": 19,
   "metadata": {},
   "outputs": [
    {
     "data": {
      "text/html": [
       "<div>\n",
       "<style scoped>\n",
       "    .dataframe tbody tr th:only-of-type {\n",
       "        vertical-align: middle;\n",
       "    }\n",
       "\n",
       "    .dataframe tbody tr th {\n",
       "        vertical-align: top;\n",
       "    }\n",
       "\n",
       "    .dataframe thead th {\n",
       "        text-align: right;\n",
       "    }\n",
       "</style>\n",
       "<table border=\"1\" class=\"dataframe\">\n",
       "  <thead>\n",
       "    <tr style=\"text-align: right;\">\n",
       "      <th></th>\n",
       "      <th>A</th>\n",
       "      <th>B</th>\n",
       "      <th>C</th>\n",
       "      <th>D</th>\n",
       "    </tr>\n",
       "  </thead>\n",
       "  <tbody>\n",
       "    <tr>\n",
       "      <th>2013-01-06</th>\n",
       "      <td>0.491554</td>\n",
       "      <td>-0.607494</td>\n",
       "      <td>0.795467</td>\n",
       "      <td>0.744055</td>\n",
       "    </tr>\n",
       "    <tr>\n",
       "      <th>2013-01-05</th>\n",
       "      <td>-1.335461</td>\n",
       "      <td>-0.248758</td>\n",
       "      <td>1.547379</td>\n",
       "      <td>1.045849</td>\n",
       "    </tr>\n",
       "    <tr>\n",
       "      <th>2013-01-04</th>\n",
       "      <td>-0.751540</td>\n",
       "      <td>-0.508092</td>\n",
       "      <td>1.764783</td>\n",
       "      <td>0.151066</td>\n",
       "    </tr>\n",
       "    <tr>\n",
       "      <th>2013-01-03</th>\n",
       "      <td>-1.175845</td>\n",
       "      <td>-0.134019</td>\n",
       "      <td>-0.912984</td>\n",
       "      <td>1.254396</td>\n",
       "    </tr>\n",
       "    <tr>\n",
       "      <th>2013-01-02</th>\n",
       "      <td>1.255651</td>\n",
       "      <td>-0.747050</td>\n",
       "      <td>0.944090</td>\n",
       "      <td>-0.563807</td>\n",
       "    </tr>\n",
       "    <tr>\n",
       "      <th>2013-01-01</th>\n",
       "      <td>-1.617695</td>\n",
       "      <td>0.113909</td>\n",
       "      <td>1.274828</td>\n",
       "      <td>1.876087</td>\n",
       "    </tr>\n",
       "  </tbody>\n",
       "</table>\n",
       "</div>"
      ],
      "text/plain": [
       "                   A         B         C         D\n",
       "2013-01-06  0.491554 -0.607494  0.795467  0.744055\n",
       "2013-01-05 -1.335461 -0.248758  1.547379  1.045849\n",
       "2013-01-04 -0.751540 -0.508092  1.764783  0.151066\n",
       "2013-01-03 -1.175845 -0.134019 -0.912984  1.254396\n",
       "2013-01-02  1.255651 -0.747050  0.944090 -0.563807\n",
       "2013-01-01 -1.617695  0.113909  1.274828  1.876087"
      ]
     },
     "execution_count": 19,
     "metadata": {},
     "output_type": "execute_result"
    }
   ],
   "source": [
    "df.sort_index(axis=0, ascending=False)    # axis=0으로 두면 행이 바뀜 (a,b)에서 a행 b열, a=인덱스0, b=인덱스1"
   ]
  },
  {
   "cell_type": "code",
   "execution_count": 20,
   "metadata": {},
   "outputs": [
    {
     "data": {
      "text/html": [
       "<div>\n",
       "<style scoped>\n",
       "    .dataframe tbody tr th:only-of-type {\n",
       "        vertical-align: middle;\n",
       "    }\n",
       "\n",
       "    .dataframe tbody tr th {\n",
       "        vertical-align: top;\n",
       "    }\n",
       "\n",
       "    .dataframe thead th {\n",
       "        text-align: right;\n",
       "    }\n",
       "</style>\n",
       "<table border=\"1\" class=\"dataframe\">\n",
       "  <thead>\n",
       "    <tr style=\"text-align: right;\">\n",
       "      <th></th>\n",
       "      <th>D</th>\n",
       "      <th>C</th>\n",
       "      <th>B</th>\n",
       "      <th>A</th>\n",
       "    </tr>\n",
       "  </thead>\n",
       "  <tbody>\n",
       "    <tr>\n",
       "      <th>2013-01-01</th>\n",
       "      <td>1.876087</td>\n",
       "      <td>1.274828</td>\n",
       "      <td>0.113909</td>\n",
       "      <td>-1.617695</td>\n",
       "    </tr>\n",
       "    <tr>\n",
       "      <th>2013-01-02</th>\n",
       "      <td>-0.563807</td>\n",
       "      <td>0.944090</td>\n",
       "      <td>-0.747050</td>\n",
       "      <td>1.255651</td>\n",
       "    </tr>\n",
       "    <tr>\n",
       "      <th>2013-01-03</th>\n",
       "      <td>1.254396</td>\n",
       "      <td>-0.912984</td>\n",
       "      <td>-0.134019</td>\n",
       "      <td>-1.175845</td>\n",
       "    </tr>\n",
       "    <tr>\n",
       "      <th>2013-01-04</th>\n",
       "      <td>0.151066</td>\n",
       "      <td>1.764783</td>\n",
       "      <td>-0.508092</td>\n",
       "      <td>-0.751540</td>\n",
       "    </tr>\n",
       "    <tr>\n",
       "      <th>2013-01-05</th>\n",
       "      <td>1.045849</td>\n",
       "      <td>1.547379</td>\n",
       "      <td>-0.248758</td>\n",
       "      <td>-1.335461</td>\n",
       "    </tr>\n",
       "    <tr>\n",
       "      <th>2013-01-06</th>\n",
       "      <td>0.744055</td>\n",
       "      <td>0.795467</td>\n",
       "      <td>-0.607494</td>\n",
       "      <td>0.491554</td>\n",
       "    </tr>\n",
       "  </tbody>\n",
       "</table>\n",
       "</div>"
      ],
      "text/plain": [
       "                   D         C         B         A\n",
       "2013-01-01  1.876087  1.274828  0.113909 -1.617695\n",
       "2013-01-02 -0.563807  0.944090 -0.747050  1.255651\n",
       "2013-01-03  1.254396 -0.912984 -0.134019 -1.175845\n",
       "2013-01-04  0.151066  1.764783 -0.508092 -0.751540\n",
       "2013-01-05  1.045849  1.547379 -0.248758 -1.335461\n",
       "2013-01-06  0.744055  0.795467 -0.607494  0.491554"
      ]
     },
     "execution_count": 20,
     "metadata": {},
     "output_type": "execute_result"
    }
   ],
   "source": [
    "df.sort_index(axis=1, ascending=False)     # ascending=False : 내림차순"
   ]
  },
  {
   "cell_type": "code",
   "execution_count": 22,
   "metadata": {},
   "outputs": [
    {
     "data": {
      "text/html": [
       "<div>\n",
       "<style scoped>\n",
       "    .dataframe tbody tr th:only-of-type {\n",
       "        vertical-align: middle;\n",
       "    }\n",
       "\n",
       "    .dataframe tbody tr th {\n",
       "        vertical-align: top;\n",
       "    }\n",
       "\n",
       "    .dataframe thead th {\n",
       "        text-align: right;\n",
       "    }\n",
       "</style>\n",
       "<table border=\"1\" class=\"dataframe\">\n",
       "  <thead>\n",
       "    <tr style=\"text-align: right;\">\n",
       "      <th></th>\n",
       "      <th>C</th>\n",
       "      <th>D</th>\n",
       "      <th>B</th>\n",
       "      <th>A</th>\n",
       "    </tr>\n",
       "  </thead>\n",
       "  <tbody>\n",
       "    <tr>\n",
       "      <th>2013-01-01</th>\n",
       "      <td>1.274828</td>\n",
       "      <td>1.876087</td>\n",
       "      <td>0.113909</td>\n",
       "      <td>-1.617695</td>\n",
       "    </tr>\n",
       "    <tr>\n",
       "      <th>2013-01-02</th>\n",
       "      <td>0.944090</td>\n",
       "      <td>-0.563807</td>\n",
       "      <td>-0.747050</td>\n",
       "      <td>1.255651</td>\n",
       "    </tr>\n",
       "    <tr>\n",
       "      <th>2013-01-03</th>\n",
       "      <td>-0.912984</td>\n",
       "      <td>1.254396</td>\n",
       "      <td>-0.134019</td>\n",
       "      <td>-1.175845</td>\n",
       "    </tr>\n",
       "    <tr>\n",
       "      <th>2013-01-04</th>\n",
       "      <td>1.764783</td>\n",
       "      <td>0.151066</td>\n",
       "      <td>-0.508092</td>\n",
       "      <td>-0.751540</td>\n",
       "    </tr>\n",
       "    <tr>\n",
       "      <th>2013-01-05</th>\n",
       "      <td>1.547379</td>\n",
       "      <td>1.045849</td>\n",
       "      <td>-0.248758</td>\n",
       "      <td>-1.335461</td>\n",
       "    </tr>\n",
       "    <tr>\n",
       "      <th>2013-01-06</th>\n",
       "      <td>0.795467</td>\n",
       "      <td>0.744055</td>\n",
       "      <td>-0.607494</td>\n",
       "      <td>0.491554</td>\n",
       "    </tr>\n",
       "  </tbody>\n",
       "</table>\n",
       "</div>"
      ],
      "text/plain": [
       "                   C         D         B         A\n",
       "2013-01-01  1.274828  1.876087  0.113909 -1.617695\n",
       "2013-01-02  0.944090 -0.563807 -0.747050  1.255651\n",
       "2013-01-03 -0.912984  1.254396 -0.134019 -1.175845\n",
       "2013-01-04  1.764783  0.151066 -0.508092 -0.751540\n",
       "2013-01-05  1.547379  1.045849 -0.248758 -1.335461\n",
       "2013-01-06  0.795467  0.744055 -0.607494  0.491554"
      ]
     },
     "execution_count": 22,
     "metadata": {},
     "output_type": "execute_result"
    }
   ],
   "source": [
    "df.sort_values(by='2013-01-05', axis=1, ascending=True)    # ascending=True : 오름차순"
   ]
  },
  {
   "cell_type": "code",
   "execution_count": 23,
   "metadata": {},
   "outputs": [
    {
     "data": {
      "text/plain": [
       "2013-01-01   -1.617695\n",
       "2013-01-02    1.255651\n",
       "2013-01-03   -1.175845\n",
       "2013-01-04   -0.751540\n",
       "2013-01-05   -1.335461\n",
       "2013-01-06    0.491554\n",
       "Freq: D, Name: A, dtype: float64"
      ]
     },
     "execution_count": 23,
     "metadata": {},
     "output_type": "execute_result"
    }
   ],
   "source": [
    "df['A']"
   ]
  },
  {
   "cell_type": "code",
   "execution_count": 24,
   "metadata": {},
   "outputs": [
    {
     "data": {
      "text/html": [
       "<div>\n",
       "<style scoped>\n",
       "    .dataframe tbody tr th:only-of-type {\n",
       "        vertical-align: middle;\n",
       "    }\n",
       "\n",
       "    .dataframe tbody tr th {\n",
       "        vertical-align: top;\n",
       "    }\n",
       "\n",
       "    .dataframe thead th {\n",
       "        text-align: right;\n",
       "    }\n",
       "</style>\n",
       "<table border=\"1\" class=\"dataframe\">\n",
       "  <thead>\n",
       "    <tr style=\"text-align: right;\">\n",
       "      <th></th>\n",
       "      <th>A</th>\n",
       "      <th>B</th>\n",
       "      <th>C</th>\n",
       "      <th>D</th>\n",
       "    </tr>\n",
       "  </thead>\n",
       "  <tbody>\n",
       "    <tr>\n",
       "      <th>2013-01-01</th>\n",
       "      <td>-1.617695</td>\n",
       "      <td>0.113909</td>\n",
       "      <td>1.274828</td>\n",
       "      <td>1.876087</td>\n",
       "    </tr>\n",
       "    <tr>\n",
       "      <th>2013-01-02</th>\n",
       "      <td>1.255651</td>\n",
       "      <td>-0.747050</td>\n",
       "      <td>0.944090</td>\n",
       "      <td>-0.563807</td>\n",
       "    </tr>\n",
       "    <tr>\n",
       "      <th>2013-01-03</th>\n",
       "      <td>-1.175845</td>\n",
       "      <td>-0.134019</td>\n",
       "      <td>-0.912984</td>\n",
       "      <td>1.254396</td>\n",
       "    </tr>\n",
       "  </tbody>\n",
       "</table>\n",
       "</div>"
      ],
      "text/plain": [
       "                   A         B         C         D\n",
       "2013-01-01 -1.617695  0.113909  1.274828  1.876087\n",
       "2013-01-02  1.255651 -0.747050  0.944090 -0.563807\n",
       "2013-01-03 -1.175845 -0.134019 -0.912984  1.254396"
      ]
     },
     "execution_count": 24,
     "metadata": {},
     "output_type": "execute_result"
    }
   ],
   "source": [
    "df[0:3]      # 인덱스0부터 인덱스2까지"
   ]
  },
  {
   "cell_type": "code",
   "execution_count": 25,
   "metadata": {},
   "outputs": [
    {
     "data": {
      "text/html": [
       "<div>\n",
       "<style scoped>\n",
       "    .dataframe tbody tr th:only-of-type {\n",
       "        vertical-align: middle;\n",
       "    }\n",
       "\n",
       "    .dataframe tbody tr th {\n",
       "        vertical-align: top;\n",
       "    }\n",
       "\n",
       "    .dataframe thead th {\n",
       "        text-align: right;\n",
       "    }\n",
       "</style>\n",
       "<table border=\"1\" class=\"dataframe\">\n",
       "  <thead>\n",
       "    <tr style=\"text-align: right;\">\n",
       "      <th></th>\n",
       "      <th>A</th>\n",
       "      <th>B</th>\n",
       "      <th>C</th>\n",
       "      <th>D</th>\n",
       "    </tr>\n",
       "  </thead>\n",
       "  <tbody>\n",
       "    <tr>\n",
       "      <th>2013-01-02</th>\n",
       "      <td>1.255651</td>\n",
       "      <td>-0.747050</td>\n",
       "      <td>0.944090</td>\n",
       "      <td>-0.563807</td>\n",
       "    </tr>\n",
       "    <tr>\n",
       "      <th>2013-01-03</th>\n",
       "      <td>-1.175845</td>\n",
       "      <td>-0.134019</td>\n",
       "      <td>-0.912984</td>\n",
       "      <td>1.254396</td>\n",
       "    </tr>\n",
       "    <tr>\n",
       "      <th>2013-01-04</th>\n",
       "      <td>-0.751540</td>\n",
       "      <td>-0.508092</td>\n",
       "      <td>1.764783</td>\n",
       "      <td>0.151066</td>\n",
       "    </tr>\n",
       "  </tbody>\n",
       "</table>\n",
       "</div>"
      ],
      "text/plain": [
       "                   A         B         C         D\n",
       "2013-01-02  1.255651 -0.747050  0.944090 -0.563807\n",
       "2013-01-03 -1.175845 -0.134019 -0.912984  1.254396\n",
       "2013-01-04 -0.751540 -0.508092  1.764783  0.151066"
      ]
     },
     "execution_count": 25,
     "metadata": {},
     "output_type": "execute_result"
    }
   ],
   "source": [
    "df['2013-01-02':'2013-01-04']     # 인덱스처럼 들어오지 않고 지정한 값이 들어옴"
   ]
  },
  {
   "cell_type": "code",
   "execution_count": 26,
   "metadata": {},
   "outputs": [
    {
     "data": {
      "text/html": [
       "<div>\n",
       "<style scoped>\n",
       "    .dataframe tbody tr th:only-of-type {\n",
       "        vertical-align: middle;\n",
       "    }\n",
       "\n",
       "    .dataframe tbody tr th {\n",
       "        vertical-align: top;\n",
       "    }\n",
       "\n",
       "    .dataframe thead th {\n",
       "        text-align: right;\n",
       "    }\n",
       "</style>\n",
       "<table border=\"1\" class=\"dataframe\">\n",
       "  <thead>\n",
       "    <tr style=\"text-align: right;\">\n",
       "      <th></th>\n",
       "      <th>A</th>\n",
       "      <th>B</th>\n",
       "      <th>C</th>\n",
       "      <th>D</th>\n",
       "    </tr>\n",
       "  </thead>\n",
       "  <tbody>\n",
       "    <tr>\n",
       "      <th>2013-01-02</th>\n",
       "      <td>1.255651</td>\n",
       "      <td>-0.74705</td>\n",
       "      <td>0.94409</td>\n",
       "      <td>-0.563807</td>\n",
       "    </tr>\n",
       "  </tbody>\n",
       "</table>\n",
       "</div>"
      ],
      "text/plain": [
       "                   A        B        C         D\n",
       "2013-01-02  1.255651 -0.74705  0.94409 -0.563807"
      ]
     },
     "execution_count": 26,
     "metadata": {},
     "output_type": "execute_result"
    }
   ],
   "source": [
    "df[df['A']>1]      # df['A']의 값이 1보다 큰 것만 가져오도록 조건 지정"
   ]
  },
  {
   "cell_type": "code",
   "execution_count": 27,
   "metadata": {},
   "outputs": [
    {
     "data": {
      "text/plain": [
       "DatetimeIndex(['2013-01-01', '2013-01-02', '2013-01-03', '2013-01-04',\n",
       "               '2013-01-05', '2013-01-06'],\n",
       "              dtype='datetime64[ns]', freq='D')"
      ]
     },
     "execution_count": 27,
     "metadata": {},
     "output_type": "execute_result"
    }
   ],
   "source": [
    "dates"
   ]
  },
  {
   "cell_type": "code",
   "execution_count": 28,
   "metadata": {},
   "outputs": [
    {
     "data": {
      "text/plain": [
       "A   -1.617695\n",
       "B    0.113909\n",
       "C    1.274828\n",
       "D    1.876087\n",
       "Name: 2013-01-01 00:00:00, dtype: float64"
      ]
     },
     "execution_count": 28,
     "metadata": {},
     "output_type": "execute_result"
    }
   ],
   "source": [
    "df.loc[dates[0]]\n",
    "# df.loc['2013-01-01'] : 라벨값을 넣어도 됨"
   ]
  },
  {
   "cell_type": "code",
   "execution_count": 31,
   "metadata": {},
   "outputs": [
    {
     "data": {
      "text/plain": [
       "2013-01-01   -1.617695\n",
       "2013-01-02    1.255651\n",
       "2013-01-03   -1.175845\n",
       "2013-01-04   -0.751540\n",
       "2013-01-05   -1.335461\n",
       "2013-01-06    0.491554\n",
       "Freq: D, Name: A, dtype: float64"
      ]
     },
     "execution_count": 31,
     "metadata": {},
     "output_type": "execute_result"
    }
   ],
   "source": [
    "# df.loc['A']  -> 에러 발생 / 열은 안됨\n",
    "# df.loc[['A', 'B']]   -> 에러\n",
    "df.loc[:, 'A']    # 행을 써주고 열을 써주어야 호출 가능 # df.loc[:, ['A', 'B']]  여러개일때 묶어주기"
   ]
  },
  {
   "cell_type": "code",
   "execution_count": 32,
   "metadata": {},
   "outputs": [
    {
     "data": {
      "text/html": [
       "<div>\n",
       "<style scoped>\n",
       "    .dataframe tbody tr th:only-of-type {\n",
       "        vertical-align: middle;\n",
       "    }\n",
       "\n",
       "    .dataframe tbody tr th {\n",
       "        vertical-align: top;\n",
       "    }\n",
       "\n",
       "    .dataframe thead th {\n",
       "        text-align: right;\n",
       "    }\n",
       "</style>\n",
       "<table border=\"1\" class=\"dataframe\">\n",
       "  <thead>\n",
       "    <tr style=\"text-align: right;\">\n",
       "      <th></th>\n",
       "      <th>A</th>\n",
       "      <th>B</th>\n",
       "    </tr>\n",
       "  </thead>\n",
       "  <tbody>\n",
       "    <tr>\n",
       "      <th>2013-01-04</th>\n",
       "      <td>-0.751540</td>\n",
       "      <td>-0.508092</td>\n",
       "    </tr>\n",
       "    <tr>\n",
       "      <th>2013-01-05</th>\n",
       "      <td>-1.335461</td>\n",
       "      <td>-0.248758</td>\n",
       "    </tr>\n",
       "  </tbody>\n",
       "</table>\n",
       "</div>"
      ],
      "text/plain": [
       "                   A         B\n",
       "2013-01-04 -0.751540 -0.508092\n",
       "2013-01-05 -1.335461 -0.248758"
      ]
     },
     "execution_count": 32,
     "metadata": {},
     "output_type": "execute_result"
    }
   ],
   "source": [
    "df.iloc[3:5, 0:2]"
   ]
  },
  {
   "cell_type": "code",
   "execution_count": 33,
   "metadata": {},
   "outputs": [
    {
     "data": {
      "text/html": [
       "<div>\n",
       "<style scoped>\n",
       "    .dataframe tbody tr th:only-of-type {\n",
       "        vertical-align: middle;\n",
       "    }\n",
       "\n",
       "    .dataframe tbody tr th {\n",
       "        vertical-align: top;\n",
       "    }\n",
       "\n",
       "    .dataframe thead th {\n",
       "        text-align: right;\n",
       "    }\n",
       "</style>\n",
       "<table border=\"1\" class=\"dataframe\">\n",
       "  <thead>\n",
       "    <tr style=\"text-align: right;\">\n",
       "      <th></th>\n",
       "      <th>A</th>\n",
       "      <th>B</th>\n",
       "      <th>C</th>\n",
       "      <th>D</th>\n",
       "    </tr>\n",
       "  </thead>\n",
       "  <tbody>\n",
       "    <tr>\n",
       "      <th>2013-01-02</th>\n",
       "      <td>1.255651</td>\n",
       "      <td>-0.747050</td>\n",
       "      <td>0.944090</td>\n",
       "      <td>-0.563807</td>\n",
       "    </tr>\n",
       "    <tr>\n",
       "      <th>2013-01-06</th>\n",
       "      <td>0.491554</td>\n",
       "      <td>-0.607494</td>\n",
       "      <td>0.795467</td>\n",
       "      <td>0.744055</td>\n",
       "    </tr>\n",
       "  </tbody>\n",
       "</table>\n",
       "</div>"
      ],
      "text/plain": [
       "                   A         B         C         D\n",
       "2013-01-02  1.255651 -0.747050  0.944090 -0.563807\n",
       "2013-01-06  0.491554 -0.607494  0.795467  0.744055"
      ]
     },
     "execution_count": 33,
     "metadata": {},
     "output_type": "execute_result"
    }
   ],
   "source": [
    "df[df.A > 0]"
   ]
  },
  {
   "cell_type": "code",
   "execution_count": 34,
   "metadata": {},
   "outputs": [
    {
     "data": {
      "text/html": [
       "<div>\n",
       "<style scoped>\n",
       "    .dataframe tbody tr th:only-of-type {\n",
       "        vertical-align: middle;\n",
       "    }\n",
       "\n",
       "    .dataframe tbody tr th {\n",
       "        vertical-align: top;\n",
       "    }\n",
       "\n",
       "    .dataframe thead th {\n",
       "        text-align: right;\n",
       "    }\n",
       "</style>\n",
       "<table border=\"1\" class=\"dataframe\">\n",
       "  <thead>\n",
       "    <tr style=\"text-align: right;\">\n",
       "      <th></th>\n",
       "      <th>A</th>\n",
       "      <th>B</th>\n",
       "      <th>C</th>\n",
       "      <th>D</th>\n",
       "    </tr>\n",
       "  </thead>\n",
       "  <tbody>\n",
       "    <tr>\n",
       "      <th>2013-01-01</th>\n",
       "      <td>-1.617695</td>\n",
       "      <td>0.113909</td>\n",
       "      <td>1.274828</td>\n",
       "      <td>1.876087</td>\n",
       "    </tr>\n",
       "    <tr>\n",
       "      <th>2013-01-02</th>\n",
       "      <td>1.255651</td>\n",
       "      <td>-0.747050</td>\n",
       "      <td>0.944090</td>\n",
       "      <td>-0.563807</td>\n",
       "    </tr>\n",
       "    <tr>\n",
       "      <th>2013-01-03</th>\n",
       "      <td>-1.175845</td>\n",
       "      <td>-0.134019</td>\n",
       "      <td>-0.912984</td>\n",
       "      <td>1.254396</td>\n",
       "    </tr>\n",
       "    <tr>\n",
       "      <th>2013-01-04</th>\n",
       "      <td>-0.751540</td>\n",
       "      <td>-0.508092</td>\n",
       "      <td>1.764783</td>\n",
       "      <td>0.151066</td>\n",
       "    </tr>\n",
       "    <tr>\n",
       "      <th>2013-01-05</th>\n",
       "      <td>-1.335461</td>\n",
       "      <td>-0.248758</td>\n",
       "      <td>1.547379</td>\n",
       "      <td>1.045849</td>\n",
       "    </tr>\n",
       "    <tr>\n",
       "      <th>2013-01-06</th>\n",
       "      <td>0.491554</td>\n",
       "      <td>-0.607494</td>\n",
       "      <td>0.795467</td>\n",
       "      <td>0.744055</td>\n",
       "    </tr>\n",
       "  </tbody>\n",
       "</table>\n",
       "</div>"
      ],
      "text/plain": [
       "                   A         B         C         D\n",
       "2013-01-01 -1.617695  0.113909  1.274828  1.876087\n",
       "2013-01-02  1.255651 -0.747050  0.944090 -0.563807\n",
       "2013-01-03 -1.175845 -0.134019 -0.912984  1.254396\n",
       "2013-01-04 -0.751540 -0.508092  1.764783  0.151066\n",
       "2013-01-05 -1.335461 -0.248758  1.547379  1.045849\n",
       "2013-01-06  0.491554 -0.607494  0.795467  0.744055"
      ]
     },
     "execution_count": 34,
     "metadata": {},
     "output_type": "execute_result"
    }
   ],
   "source": [
    "df2 = df.copy()\n",
    "df2"
   ]
  },
  {
   "cell_type": "code",
   "execution_count": 35,
   "metadata": {},
   "outputs": [
    {
     "data": {
      "text/html": [
       "<div>\n",
       "<style scoped>\n",
       "    .dataframe tbody tr th:only-of-type {\n",
       "        vertical-align: middle;\n",
       "    }\n",
       "\n",
       "    .dataframe tbody tr th {\n",
       "        vertical-align: top;\n",
       "    }\n",
       "\n",
       "    .dataframe thead th {\n",
       "        text-align: right;\n",
       "    }\n",
       "</style>\n",
       "<table border=\"1\" class=\"dataframe\">\n",
       "  <thead>\n",
       "    <tr style=\"text-align: right;\">\n",
       "      <th></th>\n",
       "      <th>A</th>\n",
       "      <th>B</th>\n",
       "      <th>C</th>\n",
       "      <th>D</th>\n",
       "      <th>E</th>\n",
       "    </tr>\n",
       "  </thead>\n",
       "  <tbody>\n",
       "    <tr>\n",
       "      <th>2013-01-01</th>\n",
       "      <td>-1.617695</td>\n",
       "      <td>0.113909</td>\n",
       "      <td>1.274828</td>\n",
       "      <td>1.876087</td>\n",
       "      <td>one</td>\n",
       "    </tr>\n",
       "    <tr>\n",
       "      <th>2013-01-02</th>\n",
       "      <td>1.255651</td>\n",
       "      <td>-0.747050</td>\n",
       "      <td>0.944090</td>\n",
       "      <td>-0.563807</td>\n",
       "      <td>one</td>\n",
       "    </tr>\n",
       "    <tr>\n",
       "      <th>2013-01-03</th>\n",
       "      <td>-1.175845</td>\n",
       "      <td>-0.134019</td>\n",
       "      <td>-0.912984</td>\n",
       "      <td>1.254396</td>\n",
       "      <td>two</td>\n",
       "    </tr>\n",
       "    <tr>\n",
       "      <th>2013-01-04</th>\n",
       "      <td>-0.751540</td>\n",
       "      <td>-0.508092</td>\n",
       "      <td>1.764783</td>\n",
       "      <td>0.151066</td>\n",
       "      <td>three</td>\n",
       "    </tr>\n",
       "    <tr>\n",
       "      <th>2013-01-05</th>\n",
       "      <td>-1.335461</td>\n",
       "      <td>-0.248758</td>\n",
       "      <td>1.547379</td>\n",
       "      <td>1.045849</td>\n",
       "      <td>four</td>\n",
       "    </tr>\n",
       "    <tr>\n",
       "      <th>2013-01-06</th>\n",
       "      <td>0.491554</td>\n",
       "      <td>-0.607494</td>\n",
       "      <td>0.795467</td>\n",
       "      <td>0.744055</td>\n",
       "      <td>three</td>\n",
       "    </tr>\n",
       "  </tbody>\n",
       "</table>\n",
       "</div>"
      ],
      "text/plain": [
       "                   A         B         C         D      E\n",
       "2013-01-01 -1.617695  0.113909  1.274828  1.876087    one\n",
       "2013-01-02  1.255651 -0.747050  0.944090 -0.563807    one\n",
       "2013-01-03 -1.175845 -0.134019 -0.912984  1.254396    two\n",
       "2013-01-04 -0.751540 -0.508092  1.764783  0.151066  three\n",
       "2013-01-05 -1.335461 -0.248758  1.547379  1.045849   four\n",
       "2013-01-06  0.491554 -0.607494  0.795467  0.744055  three"
      ]
     },
     "execution_count": 35,
     "metadata": {},
     "output_type": "execute_result"
    }
   ],
   "source": [
    "df2['E'] = ['one', 'one', 'two', 'three', 'four', 'three']\n",
    "df2"
   ]
  },
  {
   "cell_type": "code",
   "execution_count": 36,
   "metadata": {},
   "outputs": [
    {
     "data": {
      "text/html": [
       "<div>\n",
       "<style scoped>\n",
       "    .dataframe tbody tr th:only-of-type {\n",
       "        vertical-align: middle;\n",
       "    }\n",
       "\n",
       "    .dataframe tbody tr th {\n",
       "        vertical-align: top;\n",
       "    }\n",
       "\n",
       "    .dataframe thead th {\n",
       "        text-align: right;\n",
       "    }\n",
       "</style>\n",
       "<table border=\"1\" class=\"dataframe\">\n",
       "  <thead>\n",
       "    <tr style=\"text-align: right;\">\n",
       "      <th></th>\n",
       "      <th>A</th>\n",
       "      <th>B</th>\n",
       "      <th>C</th>\n",
       "      <th>D</th>\n",
       "      <th>E</th>\n",
       "    </tr>\n",
       "  </thead>\n",
       "  <tbody>\n",
       "    <tr>\n",
       "      <th>2013-01-03</th>\n",
       "      <td>-1.175845</td>\n",
       "      <td>-0.134019</td>\n",
       "      <td>-0.912984</td>\n",
       "      <td>1.254396</td>\n",
       "      <td>two</td>\n",
       "    </tr>\n",
       "    <tr>\n",
       "      <th>2013-01-05</th>\n",
       "      <td>-1.335461</td>\n",
       "      <td>-0.248758</td>\n",
       "      <td>1.547379</td>\n",
       "      <td>1.045849</td>\n",
       "      <td>four</td>\n",
       "    </tr>\n",
       "  </tbody>\n",
       "</table>\n",
       "</div>"
      ],
      "text/plain": [
       "                   A         B         C         D     E\n",
       "2013-01-03 -1.175845 -0.134019 -0.912984  1.254396   two\n",
       "2013-01-05 -1.335461 -0.248758  1.547379  1.045849  four"
      ]
     },
     "execution_count": 36,
     "metadata": {},
     "output_type": "execute_result"
    }
   ],
   "source": [
    "df2[df2['E'].isin(['two', 'four'])]"
   ]
  },
  {
   "cell_type": "code",
   "execution_count": 38,
   "metadata": {},
   "outputs": [
    {
     "data": {
      "text/plain": [
       "-1.6176947655275027"
      ]
     },
     "execution_count": 38,
     "metadata": {},
     "output_type": "execute_result"
    }
   ],
   "source": [
    "df.at[dates[0], 'A']"
   ]
  },
  {
   "cell_type": "code",
   "execution_count": 40,
   "metadata": {},
   "outputs": [
    {
     "data": {
      "text/plain": [
       "0.0"
      ]
     },
     "execution_count": 40,
     "metadata": {},
     "output_type": "execute_result"
    }
   ],
   "source": [
    "df.iat[0, 1]   # iat : 인덱스값으로 접근 가능"
   ]
  },
  {
   "cell_type": "code",
   "execution_count": 46,
   "metadata": {},
   "outputs": [
    {
     "data": {
      "text/html": [
       "<div>\n",
       "<style scoped>\n",
       "    .dataframe tbody tr th:only-of-type {\n",
       "        vertical-align: middle;\n",
       "    }\n",
       "\n",
       "    .dataframe tbody tr th {\n",
       "        vertical-align: top;\n",
       "    }\n",
       "\n",
       "    .dataframe thead th {\n",
       "        text-align: right;\n",
       "    }\n",
       "</style>\n",
       "<table border=\"1\" class=\"dataframe\">\n",
       "  <thead>\n",
       "    <tr style=\"text-align: right;\">\n",
       "      <th></th>\n",
       "      <th>A</th>\n",
       "      <th>B</th>\n",
       "      <th>C</th>\n",
       "      <th>D</th>\n",
       "    </tr>\n",
       "  </thead>\n",
       "  <tbody>\n",
       "    <tr>\n",
       "      <th>2013-01-01</th>\n",
       "      <td>-1.617695</td>\n",
       "      <td>0.000000</td>\n",
       "      <td>1.274828</td>\n",
       "      <td>1.876087</td>\n",
       "    </tr>\n",
       "    <tr>\n",
       "      <th>2013-01-02</th>\n",
       "      <td>1.255651</td>\n",
       "      <td>-0.747050</td>\n",
       "      <td>0.944090</td>\n",
       "      <td>-0.563807</td>\n",
       "    </tr>\n",
       "    <tr>\n",
       "      <th>2013-01-03</th>\n",
       "      <td>-1.175845</td>\n",
       "      <td>-0.134019</td>\n",
       "      <td>-0.912984</td>\n",
       "      <td>1.254396</td>\n",
       "    </tr>\n",
       "    <tr>\n",
       "      <th>2013-01-04</th>\n",
       "      <td>-0.751540</td>\n",
       "      <td>-0.508092</td>\n",
       "      <td>1.764783</td>\n",
       "      <td>0.151066</td>\n",
       "    </tr>\n",
       "    <tr>\n",
       "      <th>2013-01-05</th>\n",
       "      <td>-1.335461</td>\n",
       "      <td>-0.248758</td>\n",
       "      <td>1.547379</td>\n",
       "      <td>1.045849</td>\n",
       "    </tr>\n",
       "    <tr>\n",
       "      <th>2013-01-06</th>\n",
       "      <td>0.491554</td>\n",
       "      <td>-0.607494</td>\n",
       "      <td>0.795467</td>\n",
       "      <td>0.744055</td>\n",
       "    </tr>\n",
       "  </tbody>\n",
       "</table>\n",
       "</div>"
      ],
      "text/plain": [
       "                   A         B         C         D\n",
       "2013-01-01 -1.617695  0.000000  1.274828  1.876087\n",
       "2013-01-02  1.255651 -0.747050  0.944090 -0.563807\n",
       "2013-01-03 -1.175845 -0.134019 -0.912984  1.254396\n",
       "2013-01-04 -0.751540 -0.508092  1.764783  0.151066\n",
       "2013-01-05 -1.335461 -0.248758  1.547379  1.045849\n",
       "2013-01-06  0.491554 -0.607494  0.795467  0.744055"
      ]
     },
     "execution_count": 46,
     "metadata": {},
     "output_type": "execute_result"
    }
   ],
   "source": [
    "df2 = df.copy()\n",
    "df2"
   ]
  },
  {
   "cell_type": "code",
   "execution_count": 47,
   "metadata": {},
   "outputs": [
    {
     "data": {
      "text/html": [
       "<div>\n",
       "<style scoped>\n",
       "    .dataframe tbody tr th:only-of-type {\n",
       "        vertical-align: middle;\n",
       "    }\n",
       "\n",
       "    .dataframe tbody tr th {\n",
       "        vertical-align: top;\n",
       "    }\n",
       "\n",
       "    .dataframe thead th {\n",
       "        text-align: right;\n",
       "    }\n",
       "</style>\n",
       "<table border=\"1\" class=\"dataframe\">\n",
       "  <thead>\n",
       "    <tr style=\"text-align: right;\">\n",
       "      <th></th>\n",
       "      <th>A</th>\n",
       "      <th>B</th>\n",
       "      <th>C</th>\n",
       "      <th>D</th>\n",
       "    </tr>\n",
       "  </thead>\n",
       "  <tbody>\n",
       "    <tr>\n",
       "      <th>2013-01-01</th>\n",
       "      <td>-1.617695</td>\n",
       "      <td>0.000000</td>\n",
       "      <td>-1.274828</td>\n",
       "      <td>-1.876087</td>\n",
       "    </tr>\n",
       "    <tr>\n",
       "      <th>2013-01-02</th>\n",
       "      <td>-1.255651</td>\n",
       "      <td>-0.747050</td>\n",
       "      <td>-0.944090</td>\n",
       "      <td>-0.563807</td>\n",
       "    </tr>\n",
       "    <tr>\n",
       "      <th>2013-01-03</th>\n",
       "      <td>-1.175845</td>\n",
       "      <td>-0.134019</td>\n",
       "      <td>-0.912984</td>\n",
       "      <td>-1.254396</td>\n",
       "    </tr>\n",
       "    <tr>\n",
       "      <th>2013-01-04</th>\n",
       "      <td>-0.751540</td>\n",
       "      <td>-0.508092</td>\n",
       "      <td>-1.764783</td>\n",
       "      <td>-0.151066</td>\n",
       "    </tr>\n",
       "    <tr>\n",
       "      <th>2013-01-05</th>\n",
       "      <td>-1.335461</td>\n",
       "      <td>-0.248758</td>\n",
       "      <td>-1.547379</td>\n",
       "      <td>-1.045849</td>\n",
       "    </tr>\n",
       "    <tr>\n",
       "      <th>2013-01-06</th>\n",
       "      <td>-0.491554</td>\n",
       "      <td>-0.607494</td>\n",
       "      <td>-0.795467</td>\n",
       "      <td>-0.744055</td>\n",
       "    </tr>\n",
       "  </tbody>\n",
       "</table>\n",
       "</div>"
      ],
      "text/plain": [
       "                   A         B         C         D\n",
       "2013-01-01 -1.617695  0.000000 -1.274828 -1.876087\n",
       "2013-01-02 -1.255651 -0.747050 -0.944090 -0.563807\n",
       "2013-01-03 -1.175845 -0.134019 -0.912984 -1.254396\n",
       "2013-01-04 -0.751540 -0.508092 -1.764783 -0.151066\n",
       "2013-01-05 -1.335461 -0.248758 -1.547379 -1.045849\n",
       "2013-01-06 -0.491554 -0.607494 -0.795467 -0.744055"
      ]
     },
     "execution_count": 47,
     "metadata": {},
     "output_type": "execute_result"
    }
   ],
   "source": [
    "df2[df2 > 0] = -df2\n",
    "df2"
   ]
  },
  {
   "cell_type": "code",
   "execution_count": 52,
   "metadata": {},
   "outputs": [
    {
     "data": {
      "text/html": [
       "<div>\n",
       "<style scoped>\n",
       "    .dataframe tbody tr th:only-of-type {\n",
       "        vertical-align: middle;\n",
       "    }\n",
       "\n",
       "    .dataframe tbody tr th {\n",
       "        vertical-align: top;\n",
       "    }\n",
       "\n",
       "    .dataframe thead th {\n",
       "        text-align: right;\n",
       "    }\n",
       "</style>\n",
       "<table border=\"1\" class=\"dataframe\">\n",
       "  <thead>\n",
       "    <tr style=\"text-align: right;\">\n",
       "      <th></th>\n",
       "      <th>A</th>\n",
       "      <th>B</th>\n",
       "      <th>C</th>\n",
       "      <th>D</th>\n",
       "      <th>E</th>\n",
       "    </tr>\n",
       "  </thead>\n",
       "  <tbody>\n",
       "    <tr>\n",
       "      <th>2013-01-01</th>\n",
       "      <td>-1.617695</td>\n",
       "      <td>0.000000</td>\n",
       "      <td>1.274828</td>\n",
       "      <td>1.876087</td>\n",
       "      <td>NaN</td>\n",
       "    </tr>\n",
       "    <tr>\n",
       "      <th>2013-01-02</th>\n",
       "      <td>1.255651</td>\n",
       "      <td>-0.747050</td>\n",
       "      <td>0.944090</td>\n",
       "      <td>-0.563807</td>\n",
       "      <td>NaN</td>\n",
       "    </tr>\n",
       "    <tr>\n",
       "      <th>2013-01-03</th>\n",
       "      <td>-1.175845</td>\n",
       "      <td>-0.134019</td>\n",
       "      <td>-0.912984</td>\n",
       "      <td>1.254396</td>\n",
       "      <td>NaN</td>\n",
       "    </tr>\n",
       "    <tr>\n",
       "      <th>2013-01-04</th>\n",
       "      <td>-0.751540</td>\n",
       "      <td>-0.508092</td>\n",
       "      <td>1.764783</td>\n",
       "      <td>0.151066</td>\n",
       "      <td>NaN</td>\n",
       "    </tr>\n",
       "  </tbody>\n",
       "</table>\n",
       "</div>"
      ],
      "text/plain": [
       "                   A         B         C         D   E\n",
       "2013-01-01 -1.617695  0.000000  1.274828  1.876087 NaN\n",
       "2013-01-02  1.255651 -0.747050  0.944090 -0.563807 NaN\n",
       "2013-01-03 -1.175845 -0.134019 -0.912984  1.254396 NaN\n",
       "2013-01-04 -0.751540 -0.508092  1.764783  0.151066 NaN"
      ]
     },
     "execution_count": 52,
     "metadata": {},
     "output_type": "execute_result"
    }
   ],
   "source": [
    "df1 = df.reindex(index=dates[0:4], columns=list(df.columns) + ['E'])\n",
    "df1"
   ]
  },
  {
   "cell_type": "code",
   "execution_count": 53,
   "metadata": {},
   "outputs": [
    {
     "data": {
      "text/html": [
       "<div>\n",
       "<style scoped>\n",
       "    .dataframe tbody tr th:only-of-type {\n",
       "        vertical-align: middle;\n",
       "    }\n",
       "\n",
       "    .dataframe tbody tr th {\n",
       "        vertical-align: top;\n",
       "    }\n",
       "\n",
       "    .dataframe thead th {\n",
       "        text-align: right;\n",
       "    }\n",
       "</style>\n",
       "<table border=\"1\" class=\"dataframe\">\n",
       "  <thead>\n",
       "    <tr style=\"text-align: right;\">\n",
       "      <th></th>\n",
       "      <th>A</th>\n",
       "      <th>B</th>\n",
       "      <th>C</th>\n",
       "      <th>D</th>\n",
       "      <th>E</th>\n",
       "    </tr>\n",
       "  </thead>\n",
       "  <tbody>\n",
       "    <tr>\n",
       "      <th>2013-01-01</th>\n",
       "      <td>-1.617695</td>\n",
       "      <td>0.000000</td>\n",
       "      <td>1.274828</td>\n",
       "      <td>1.876087</td>\n",
       "      <td>1.0</td>\n",
       "    </tr>\n",
       "    <tr>\n",
       "      <th>2013-01-02</th>\n",
       "      <td>1.255651</td>\n",
       "      <td>-0.747050</td>\n",
       "      <td>0.944090</td>\n",
       "      <td>-0.563807</td>\n",
       "      <td>1.0</td>\n",
       "    </tr>\n",
       "    <tr>\n",
       "      <th>2013-01-03</th>\n",
       "      <td>-1.175845</td>\n",
       "      <td>-0.134019</td>\n",
       "      <td>-0.912984</td>\n",
       "      <td>1.254396</td>\n",
       "      <td>NaN</td>\n",
       "    </tr>\n",
       "    <tr>\n",
       "      <th>2013-01-04</th>\n",
       "      <td>-0.751540</td>\n",
       "      <td>-0.508092</td>\n",
       "      <td>1.764783</td>\n",
       "      <td>0.151066</td>\n",
       "      <td>NaN</td>\n",
       "    </tr>\n",
       "  </tbody>\n",
       "</table>\n",
       "</div>"
      ],
      "text/plain": [
       "                   A         B         C         D    E\n",
       "2013-01-01 -1.617695  0.000000  1.274828  1.876087  1.0\n",
       "2013-01-02  1.255651 -0.747050  0.944090 -0.563807  1.0\n",
       "2013-01-03 -1.175845 -0.134019 -0.912984  1.254396  NaN\n",
       "2013-01-04 -0.751540 -0.508092  1.764783  0.151066  NaN"
      ]
     },
     "execution_count": 53,
     "metadata": {},
     "output_type": "execute_result"
    }
   ],
   "source": [
    "df1.loc[dates[0]:dates[1], 'E'] = 1\n",
    "df1"
   ]
  },
  {
   "cell_type": "code",
   "execution_count": 59,
   "metadata": {
    "scrolled": true
   },
   "outputs": [
    {
     "data": {
      "text/plain": [
       "\u001b[1;31mSignature:\u001b[0m \u001b[0mdf1\u001b[0m\u001b[1;33m.\u001b[0m\u001b[0mdropna\u001b[0m\u001b[1;33m(\u001b[0m\u001b[0maxis\u001b[0m\u001b[1;33m=\u001b[0m\u001b[1;36m0\u001b[0m\u001b[1;33m,\u001b[0m \u001b[0mhow\u001b[0m\u001b[1;33m=\u001b[0m\u001b[1;34m'any'\u001b[0m\u001b[1;33m,\u001b[0m \u001b[0mthresh\u001b[0m\u001b[1;33m=\u001b[0m\u001b[1;32mNone\u001b[0m\u001b[1;33m,\u001b[0m \u001b[0msubset\u001b[0m\u001b[1;33m=\u001b[0m\u001b[1;32mNone\u001b[0m\u001b[1;33m,\u001b[0m \u001b[0minplace\u001b[0m\u001b[1;33m=\u001b[0m\u001b[1;32mFalse\u001b[0m\u001b[1;33m)\u001b[0m\u001b[1;33m\u001b[0m\u001b[1;33m\u001b[0m\u001b[0m\n",
       "\u001b[1;31mDocstring:\u001b[0m\n",
       "Remove missing values.\n",
       "\n",
       "See the :ref:`User Guide <missing_data>` for more on which values are\n",
       "considered missing, and how to work with missing data.\n",
       "\n",
       "Parameters\n",
       "----------\n",
       "axis : {0 or 'index', 1 or 'columns'}, default 0\n",
       "    Determine if rows or columns which contain missing values are\n",
       "    removed.\n",
       "\n",
       "    * 0, or 'index' : Drop rows which contain missing values.\n",
       "    * 1, or 'columns' : Drop columns which contain missing value.\n",
       "\n",
       "    .. deprecated:: 0.23.0\n",
       "\n",
       "       Pass tuple or list to drop on multiple axes.\n",
       "       Only a single axis is allowed.\n",
       "\n",
       "how : {'any', 'all'}, default 'any'\n",
       "    Determine if row or column is removed from DataFrame, when we have\n",
       "    at least one NA or all NA.\n",
       "\n",
       "    * 'any' : If any NA values are present, drop that row or column.\n",
       "    * 'all' : If all values are NA, drop that row or column.\n",
       "\n",
       "thresh : int, optional\n",
       "    Require that many non-NA values.\n",
       "subset : array-like, optional\n",
       "    Labels along other axis to consider, e.g. if you are dropping rows\n",
       "    these would be a list of columns to include.\n",
       "inplace : bool, default False\n",
       "    If True, do operation inplace and return None.\n",
       "\n",
       "Returns\n",
       "-------\n",
       "DataFrame\n",
       "    DataFrame with NA entries dropped from it.\n",
       "\n",
       "See Also\n",
       "--------\n",
       "DataFrame.isna: Indicate missing values.\n",
       "DataFrame.notna : Indicate existing (non-missing) values.\n",
       "DataFrame.fillna : Replace missing values.\n",
       "Series.dropna : Drop missing values.\n",
       "Index.dropna : Drop missing indices.\n",
       "\n",
       "Examples\n",
       "--------\n",
       ">>> df = pd.DataFrame({\"name\": ['Alfred', 'Batman', 'Catwoman'],\n",
       "...                    \"toy\": [np.nan, 'Batmobile', 'Bullwhip'],\n",
       "...                    \"born\": [pd.NaT, pd.Timestamp(\"1940-04-25\"),\n",
       "...                             pd.NaT]})\n",
       ">>> df\n",
       "       name        toy       born\n",
       "0    Alfred        NaN        NaT\n",
       "1    Batman  Batmobile 1940-04-25\n",
       "2  Catwoman   Bullwhip        NaT\n",
       "\n",
       "Drop the rows where at least one element is missing.\n",
       "\n",
       ">>> df.dropna()\n",
       "     name        toy       born\n",
       "1  Batman  Batmobile 1940-04-25\n",
       "\n",
       "Drop the columns where at least one element is missing.\n",
       "\n",
       ">>> df.dropna(axis='columns')\n",
       "       name\n",
       "0    Alfred\n",
       "1    Batman\n",
       "2  Catwoman\n",
       "\n",
       "Drop the rows where all elements are missing.\n",
       "\n",
       ">>> df.dropna(how='all')\n",
       "       name        toy       born\n",
       "0    Alfred        NaN        NaT\n",
       "1    Batman  Batmobile 1940-04-25\n",
       "2  Catwoman   Bullwhip        NaT\n",
       "\n",
       "Keep only the rows with at least 2 non-NA values.\n",
       "\n",
       ">>> df.dropna(thresh=2)\n",
       "       name        toy       born\n",
       "1    Batman  Batmobile 1940-04-25\n",
       "2  Catwoman   Bullwhip        NaT\n",
       "\n",
       "Define in which columns to look for missing values.\n",
       "\n",
       ">>> df.dropna(subset=['name', 'born'])\n",
       "       name        toy       born\n",
       "1    Batman  Batmobile 1940-04-25\n",
       "\n",
       "Keep the DataFrame with valid entries in the same variable.\n",
       "\n",
       ">>> df.dropna(inplace=True)\n",
       ">>> df\n",
       "     name        toy       born\n",
       "1  Batman  Batmobile 1940-04-25\n",
       "\u001b[1;31mFile:\u001b[0m      c:\\programdata\\anaconda3\\lib\\site-packages\\pandas\\core\\frame.py\n",
       "\u001b[1;31mType:\u001b[0m      method\n"
      ]
     },
     "metadata": {},
     "output_type": "display_data"
    }
   ],
   "source": [
    "df1.dropna?"
   ]
  },
  {
   "cell_type": "code",
   "execution_count": 50,
   "metadata": {},
   "outputs": [
    {
     "data": {
      "text/html": [
       "<div>\n",
       "<style scoped>\n",
       "    .dataframe tbody tr th:only-of-type {\n",
       "        vertical-align: middle;\n",
       "    }\n",
       "\n",
       "    .dataframe tbody tr th {\n",
       "        vertical-align: top;\n",
       "    }\n",
       "\n",
       "    .dataframe thead th {\n",
       "        text-align: right;\n",
       "    }\n",
       "</style>\n",
       "<table border=\"1\" class=\"dataframe\">\n",
       "  <thead>\n",
       "    <tr style=\"text-align: right;\">\n",
       "      <th></th>\n",
       "      <th>A</th>\n",
       "      <th>B</th>\n",
       "      <th>C</th>\n",
       "      <th>D</th>\n",
       "      <th>E</th>\n",
       "    </tr>\n",
       "  </thead>\n",
       "  <tbody>\n",
       "    <tr>\n",
       "      <th>2013-01-01</th>\n",
       "      <td>-1.617695</td>\n",
       "      <td>0.00000</td>\n",
       "      <td>1.274828</td>\n",
       "      <td>1.876087</td>\n",
       "      <td>1.0</td>\n",
       "    </tr>\n",
       "    <tr>\n",
       "      <th>2013-01-02</th>\n",
       "      <td>1.255651</td>\n",
       "      <td>-0.74705</td>\n",
       "      <td>0.944090</td>\n",
       "      <td>-0.563807</td>\n",
       "      <td>1.0</td>\n",
       "    </tr>\n",
       "  </tbody>\n",
       "</table>\n",
       "</div>"
      ],
      "text/plain": [
       "                   A        B         C         D    E\n",
       "2013-01-01 -1.617695  0.00000  1.274828  1.876087  1.0\n",
       "2013-01-02  1.255651 -0.74705  0.944090 -0.563807  1.0"
      ]
     },
     "execution_count": 50,
     "metadata": {},
     "output_type": "execute_result"
    }
   ],
   "source": [
    "df1.dropna(how='any')    # dropna : Na값을 없앰  <-> fillna"
   ]
  },
  {
   "cell_type": "code",
   "execution_count": 54,
   "metadata": {},
   "outputs": [
    {
     "data": {
      "text/html": [
       "<div>\n",
       "<style scoped>\n",
       "    .dataframe tbody tr th:only-of-type {\n",
       "        vertical-align: middle;\n",
       "    }\n",
       "\n",
       "    .dataframe tbody tr th {\n",
       "        vertical-align: top;\n",
       "    }\n",
       "\n",
       "    .dataframe thead th {\n",
       "        text-align: right;\n",
       "    }\n",
       "</style>\n",
       "<table border=\"1\" class=\"dataframe\">\n",
       "  <thead>\n",
       "    <tr style=\"text-align: right;\">\n",
       "      <th></th>\n",
       "      <th>A</th>\n",
       "      <th>B</th>\n",
       "      <th>C</th>\n",
       "      <th>D</th>\n",
       "    </tr>\n",
       "  </thead>\n",
       "  <tbody>\n",
       "    <tr>\n",
       "      <th>2013-01-01</th>\n",
       "      <td>-1.617695</td>\n",
       "      <td>0.000000</td>\n",
       "      <td>1.274828</td>\n",
       "      <td>1.876087</td>\n",
       "    </tr>\n",
       "    <tr>\n",
       "      <th>2013-01-02</th>\n",
       "      <td>1.255651</td>\n",
       "      <td>-0.747050</td>\n",
       "      <td>0.944090</td>\n",
       "      <td>-0.563807</td>\n",
       "    </tr>\n",
       "    <tr>\n",
       "      <th>2013-01-03</th>\n",
       "      <td>-1.175845</td>\n",
       "      <td>-0.134019</td>\n",
       "      <td>-0.912984</td>\n",
       "      <td>1.254396</td>\n",
       "    </tr>\n",
       "    <tr>\n",
       "      <th>2013-01-04</th>\n",
       "      <td>-0.751540</td>\n",
       "      <td>-0.508092</td>\n",
       "      <td>1.764783</td>\n",
       "      <td>0.151066</td>\n",
       "    </tr>\n",
       "  </tbody>\n",
       "</table>\n",
       "</div>"
      ],
      "text/plain": [
       "                   A         B         C         D\n",
       "2013-01-01 -1.617695  0.000000  1.274828  1.876087\n",
       "2013-01-02  1.255651 -0.747050  0.944090 -0.563807\n",
       "2013-01-03 -1.175845 -0.134019 -0.912984  1.254396\n",
       "2013-01-04 -0.751540 -0.508092  1.764783  0.151066"
      ]
     },
     "execution_count": 54,
     "metadata": {},
     "output_type": "execute_result"
    }
   ],
   "source": [
    "df1.dropna(how='any', axis=1) "
   ]
  },
  {
   "cell_type": "code",
   "execution_count": 55,
   "metadata": {},
   "outputs": [
    {
     "data": {
      "text/html": [
       "<div>\n",
       "<style scoped>\n",
       "    .dataframe tbody tr th:only-of-type {\n",
       "        vertical-align: middle;\n",
       "    }\n",
       "\n",
       "    .dataframe tbody tr th {\n",
       "        vertical-align: top;\n",
       "    }\n",
       "\n",
       "    .dataframe thead th {\n",
       "        text-align: right;\n",
       "    }\n",
       "</style>\n",
       "<table border=\"1\" class=\"dataframe\">\n",
       "  <thead>\n",
       "    <tr style=\"text-align: right;\">\n",
       "      <th></th>\n",
       "      <th>A</th>\n",
       "      <th>B</th>\n",
       "      <th>C</th>\n",
       "      <th>D</th>\n",
       "      <th>E</th>\n",
       "    </tr>\n",
       "  </thead>\n",
       "  <tbody>\n",
       "    <tr>\n",
       "      <th>2013-01-01</th>\n",
       "      <td>-1.617695</td>\n",
       "      <td>0.000000</td>\n",
       "      <td>1.274828</td>\n",
       "      <td>1.876087</td>\n",
       "      <td>1.0</td>\n",
       "    </tr>\n",
       "    <tr>\n",
       "      <th>2013-01-02</th>\n",
       "      <td>1.255651</td>\n",
       "      <td>-0.747050</td>\n",
       "      <td>0.944090</td>\n",
       "      <td>-0.563807</td>\n",
       "      <td>1.0</td>\n",
       "    </tr>\n",
       "    <tr>\n",
       "      <th>2013-01-03</th>\n",
       "      <td>-1.175845</td>\n",
       "      <td>-0.134019</td>\n",
       "      <td>-0.912984</td>\n",
       "      <td>1.254396</td>\n",
       "      <td>NaN</td>\n",
       "    </tr>\n",
       "    <tr>\n",
       "      <th>2013-01-04</th>\n",
       "      <td>-0.751540</td>\n",
       "      <td>-0.508092</td>\n",
       "      <td>1.764783</td>\n",
       "      <td>0.151066</td>\n",
       "      <td>NaN</td>\n",
       "    </tr>\n",
       "  </tbody>\n",
       "</table>\n",
       "</div>"
      ],
      "text/plain": [
       "                   A         B         C         D    E\n",
       "2013-01-01 -1.617695  0.000000  1.274828  1.876087  1.0\n",
       "2013-01-02  1.255651 -0.747050  0.944090 -0.563807  1.0\n",
       "2013-01-03 -1.175845 -0.134019 -0.912984  1.254396  NaN\n",
       "2013-01-04 -0.751540 -0.508092  1.764783  0.151066  NaN"
      ]
     },
     "execution_count": 55,
     "metadata": {},
     "output_type": "execute_result"
    }
   ],
   "source": [
    "df1"
   ]
  },
  {
   "cell_type": "code",
   "execution_count": 56,
   "metadata": {},
   "outputs": [
    {
     "data": {
      "text/html": [
       "<div>\n",
       "<style scoped>\n",
       "    .dataframe tbody tr th:only-of-type {\n",
       "        vertical-align: middle;\n",
       "    }\n",
       "\n",
       "    .dataframe tbody tr th {\n",
       "        vertical-align: top;\n",
       "    }\n",
       "\n",
       "    .dataframe thead th {\n",
       "        text-align: right;\n",
       "    }\n",
       "</style>\n",
       "<table border=\"1\" class=\"dataframe\">\n",
       "  <thead>\n",
       "    <tr style=\"text-align: right;\">\n",
       "      <th></th>\n",
       "      <th>A</th>\n",
       "      <th>B</th>\n",
       "      <th>C</th>\n",
       "      <th>D</th>\n",
       "      <th>E</th>\n",
       "    </tr>\n",
       "  </thead>\n",
       "  <tbody>\n",
       "    <tr>\n",
       "      <th>2013-01-01</th>\n",
       "      <td>-1.617695</td>\n",
       "      <td>0.000000</td>\n",
       "      <td>1.274828</td>\n",
       "      <td>1.876087</td>\n",
       "      <td>1.0</td>\n",
       "    </tr>\n",
       "    <tr>\n",
       "      <th>2013-01-02</th>\n",
       "      <td>1.255651</td>\n",
       "      <td>-0.747050</td>\n",
       "      <td>0.944090</td>\n",
       "      <td>-0.563807</td>\n",
       "      <td>1.0</td>\n",
       "    </tr>\n",
       "    <tr>\n",
       "      <th>2013-01-03</th>\n",
       "      <td>-1.175845</td>\n",
       "      <td>-0.134019</td>\n",
       "      <td>-0.912984</td>\n",
       "      <td>1.254396</td>\n",
       "      <td>5.0</td>\n",
       "    </tr>\n",
       "    <tr>\n",
       "      <th>2013-01-04</th>\n",
       "      <td>-0.751540</td>\n",
       "      <td>-0.508092</td>\n",
       "      <td>1.764783</td>\n",
       "      <td>0.151066</td>\n",
       "      <td>5.0</td>\n",
       "    </tr>\n",
       "  </tbody>\n",
       "</table>\n",
       "</div>"
      ],
      "text/plain": [
       "                   A         B         C         D    E\n",
       "2013-01-01 -1.617695  0.000000  1.274828  1.876087  1.0\n",
       "2013-01-02  1.255651 -0.747050  0.944090 -0.563807  1.0\n",
       "2013-01-03 -1.175845 -0.134019 -0.912984  1.254396  5.0\n",
       "2013-01-04 -0.751540 -0.508092  1.764783  0.151066  5.0"
      ]
     },
     "execution_count": 56,
     "metadata": {},
     "output_type": "execute_result"
    }
   ],
   "source": [
    "df1.fillna(value=5)    # fillna : Na값을 value값으로 채움"
   ]
  },
  {
   "cell_type": "code",
   "execution_count": 60,
   "metadata": {},
   "outputs": [
    {
     "data": {
      "text/html": [
       "<div>\n",
       "<style scoped>\n",
       "    .dataframe tbody tr th:only-of-type {\n",
       "        vertical-align: middle;\n",
       "    }\n",
       "\n",
       "    .dataframe tbody tr th {\n",
       "        vertical-align: top;\n",
       "    }\n",
       "\n",
       "    .dataframe thead th {\n",
       "        text-align: right;\n",
       "    }\n",
       "</style>\n",
       "<table border=\"1\" class=\"dataframe\">\n",
       "  <thead>\n",
       "    <tr style=\"text-align: right;\">\n",
       "      <th></th>\n",
       "      <th>A</th>\n",
       "      <th>B</th>\n",
       "      <th>C</th>\n",
       "      <th>D</th>\n",
       "      <th>E</th>\n",
       "    </tr>\n",
       "  </thead>\n",
       "  <tbody>\n",
       "    <tr>\n",
       "      <th>2013-01-01</th>\n",
       "      <td>False</td>\n",
       "      <td>False</td>\n",
       "      <td>False</td>\n",
       "      <td>False</td>\n",
       "      <td>False</td>\n",
       "    </tr>\n",
       "    <tr>\n",
       "      <th>2013-01-02</th>\n",
       "      <td>False</td>\n",
       "      <td>False</td>\n",
       "      <td>False</td>\n",
       "      <td>False</td>\n",
       "      <td>False</td>\n",
       "    </tr>\n",
       "    <tr>\n",
       "      <th>2013-01-03</th>\n",
       "      <td>False</td>\n",
       "      <td>False</td>\n",
       "      <td>False</td>\n",
       "      <td>False</td>\n",
       "      <td>True</td>\n",
       "    </tr>\n",
       "    <tr>\n",
       "      <th>2013-01-04</th>\n",
       "      <td>False</td>\n",
       "      <td>False</td>\n",
       "      <td>False</td>\n",
       "      <td>False</td>\n",
       "      <td>True</td>\n",
       "    </tr>\n",
       "  </tbody>\n",
       "</table>\n",
       "</div>"
      ],
      "text/plain": [
       "                A      B      C      D      E\n",
       "2013-01-01  False  False  False  False  False\n",
       "2013-01-02  False  False  False  False  False\n",
       "2013-01-03  False  False  False  False   True\n",
       "2013-01-04  False  False  False  False   True"
      ]
     },
     "execution_count": 60,
     "metadata": {},
     "output_type": "execute_result"
    }
   ],
   "source": [
    "df1.isna()    # True, False로 리턴"
   ]
  },
  {
   "cell_type": "code",
   "execution_count": 62,
   "metadata": {},
   "outputs": [
    {
     "data": {
      "text/html": [
       "<div>\n",
       "<style scoped>\n",
       "    .dataframe tbody tr th:only-of-type {\n",
       "        vertical-align: middle;\n",
       "    }\n",
       "\n",
       "    .dataframe tbody tr th {\n",
       "        vertical-align: top;\n",
       "    }\n",
       "\n",
       "    .dataframe thead th {\n",
       "        text-align: right;\n",
       "    }\n",
       "</style>\n",
       "<table border=\"1\" class=\"dataframe\">\n",
       "  <thead>\n",
       "    <tr style=\"text-align: right;\">\n",
       "      <th></th>\n",
       "      <th>A</th>\n",
       "      <th>B</th>\n",
       "      <th>C</th>\n",
       "      <th>D</th>\n",
       "    </tr>\n",
       "  </thead>\n",
       "  <tbody>\n",
       "    <tr>\n",
       "      <th>2013-01-01</th>\n",
       "      <td>-1.617695</td>\n",
       "      <td>0.000000</td>\n",
       "      <td>1.274828</td>\n",
       "      <td>1.876087</td>\n",
       "    </tr>\n",
       "    <tr>\n",
       "      <th>2013-01-02</th>\n",
       "      <td>1.255651</td>\n",
       "      <td>-0.747050</td>\n",
       "      <td>0.944090</td>\n",
       "      <td>-0.563807</td>\n",
       "    </tr>\n",
       "    <tr>\n",
       "      <th>2013-01-03</th>\n",
       "      <td>-1.175845</td>\n",
       "      <td>-0.134019</td>\n",
       "      <td>-0.912984</td>\n",
       "      <td>1.254396</td>\n",
       "    </tr>\n",
       "    <tr>\n",
       "      <th>2013-01-04</th>\n",
       "      <td>-0.751540</td>\n",
       "      <td>-0.508092</td>\n",
       "      <td>1.764783</td>\n",
       "      <td>0.151066</td>\n",
       "    </tr>\n",
       "    <tr>\n",
       "      <th>2013-01-05</th>\n",
       "      <td>-1.335461</td>\n",
       "      <td>-0.248758</td>\n",
       "      <td>1.547379</td>\n",
       "      <td>1.045849</td>\n",
       "    </tr>\n",
       "    <tr>\n",
       "      <th>2013-01-06</th>\n",
       "      <td>0.491554</td>\n",
       "      <td>-0.607494</td>\n",
       "      <td>0.795467</td>\n",
       "      <td>0.744055</td>\n",
       "    </tr>\n",
       "  </tbody>\n",
       "</table>\n",
       "</div>"
      ],
      "text/plain": [
       "                   A         B         C         D\n",
       "2013-01-01 -1.617695  0.000000  1.274828  1.876087\n",
       "2013-01-02  1.255651 -0.747050  0.944090 -0.563807\n",
       "2013-01-03 -1.175845 -0.134019 -0.912984  1.254396\n",
       "2013-01-04 -0.751540 -0.508092  1.764783  0.151066\n",
       "2013-01-05 -1.335461 -0.248758  1.547379  1.045849\n",
       "2013-01-06  0.491554 -0.607494  0.795467  0.744055"
      ]
     },
     "execution_count": 62,
     "metadata": {},
     "output_type": "execute_result"
    }
   ],
   "source": [
    "df"
   ]
  },
  {
   "cell_type": "code",
   "execution_count": 61,
   "metadata": {},
   "outputs": [
    {
     "data": {
      "text/html": [
       "<div>\n",
       "<style scoped>\n",
       "    .dataframe tbody tr th:only-of-type {\n",
       "        vertical-align: middle;\n",
       "    }\n",
       "\n",
       "    .dataframe tbody tr th {\n",
       "        vertical-align: top;\n",
       "    }\n",
       "\n",
       "    .dataframe thead th {\n",
       "        text-align: right;\n",
       "    }\n",
       "</style>\n",
       "<table border=\"1\" class=\"dataframe\">\n",
       "  <thead>\n",
       "    <tr style=\"text-align: right;\">\n",
       "      <th></th>\n",
       "      <th>A</th>\n",
       "      <th>B</th>\n",
       "      <th>C</th>\n",
       "      <th>D</th>\n",
       "    </tr>\n",
       "  </thead>\n",
       "  <tbody>\n",
       "    <tr>\n",
       "      <th>2013-01-01</th>\n",
       "      <td>-1.617695</td>\n",
       "      <td>0.000000</td>\n",
       "      <td>1.274828</td>\n",
       "      <td>1.876087</td>\n",
       "    </tr>\n",
       "    <tr>\n",
       "      <th>2013-01-02</th>\n",
       "      <td>-0.362044</td>\n",
       "      <td>-0.747050</td>\n",
       "      <td>2.218918</td>\n",
       "      <td>1.312280</td>\n",
       "    </tr>\n",
       "    <tr>\n",
       "      <th>2013-01-03</th>\n",
       "      <td>-1.537888</td>\n",
       "      <td>-0.881069</td>\n",
       "      <td>1.305934</td>\n",
       "      <td>2.566675</td>\n",
       "    </tr>\n",
       "    <tr>\n",
       "      <th>2013-01-04</th>\n",
       "      <td>-2.289429</td>\n",
       "      <td>-1.389161</td>\n",
       "      <td>3.070717</td>\n",
       "      <td>2.717741</td>\n",
       "    </tr>\n",
       "    <tr>\n",
       "      <th>2013-01-05</th>\n",
       "      <td>-3.624889</td>\n",
       "      <td>-1.637919</td>\n",
       "      <td>4.618096</td>\n",
       "      <td>3.763590</td>\n",
       "    </tr>\n",
       "    <tr>\n",
       "      <th>2013-01-06</th>\n",
       "      <td>-3.133336</td>\n",
       "      <td>-2.245413</td>\n",
       "      <td>5.413563</td>\n",
       "      <td>4.507645</td>\n",
       "    </tr>\n",
       "  </tbody>\n",
       "</table>\n",
       "</div>"
      ],
      "text/plain": [
       "                   A         B         C         D\n",
       "2013-01-01 -1.617695  0.000000  1.274828  1.876087\n",
       "2013-01-02 -0.362044 -0.747050  2.218918  1.312280\n",
       "2013-01-03 -1.537888 -0.881069  1.305934  2.566675\n",
       "2013-01-04 -2.289429 -1.389161  3.070717  2.717741\n",
       "2013-01-05 -3.624889 -1.637919  4.618096  3.763590\n",
       "2013-01-06 -3.133336 -2.245413  5.413563  4.507645"
      ]
     },
     "execution_count": 61,
     "metadata": {},
     "output_type": "execute_result"
    }
   ],
   "source": [
    "df.apply(np.cumsum)   # 누적 합"
   ]
  },
  {
   "cell_type": "code",
   "execution_count": 63,
   "metadata": {},
   "outputs": [
    {
     "data": {
      "text/plain": [
       "A    2.873346\n",
       "B    0.747050\n",
       "C    2.677766\n",
       "D    2.439894\n",
       "dtype: float64"
      ]
     },
     "execution_count": 63,
     "metadata": {},
     "output_type": "execute_result"
    }
   ],
   "source": [
    "# 람다 사용하기\n",
    "df.apply(lambda x: x.max() - x.min())   "
   ]
  },
  {
   "cell_type": "code",
   "execution_count": null,
   "metadata": {},
   "outputs": [],
   "source": []
  }
 ],
 "metadata": {
  "kernelspec": {
   "display_name": "Python 3",
   "language": "python",
   "name": "python3"
  },
  "language_info": {
   "codemirror_mode": {
    "name": "ipython",
    "version": 3
   },
   "file_extension": ".py",
   "mimetype": "text/x-python",
   "name": "python",
   "nbconvert_exporter": "python",
   "pygments_lexer": "ipython3",
   "version": "3.7.3"
  }
 },
 "nbformat": 4,
 "nbformat_minor": 4
}
