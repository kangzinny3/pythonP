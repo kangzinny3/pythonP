{
 "cells": [
  {
   "cell_type": "code",
   "execution_count": 1,
   "metadata": {},
   "outputs": [],
   "source": [
    "import tensorflow as tf"
   ]
  },
  {
   "cell_type": "code",
   "execution_count": 2,
   "metadata": {},
   "outputs": [
    {
     "ename": "SyntaxError",
     "evalue": "invalid syntax (<ipython-input-2-71d793801fc8>, line 30)",
     "output_type": "error",
     "traceback": [
      "\u001b[1;36m  File \u001b[1;32m\"<ipython-input-2-71d793801fc8>\"\u001b[1;36m, line \u001b[1;32m30\u001b[0m\n\u001b[1;33m    for step in range(100)\u001b[0m\n\u001b[1;37m                          ^\u001b[0m\n\u001b[1;31mSyntaxError\u001b[0m\u001b[1;31m:\u001b[0m invalid syntax\n"
     ]
    }
   ],
   "source": [
    "# X와 Y의 상관관계를 분석하는 기초적인 선형 회귀 모델을 만들고 실행\n",
    "x_data = [1, 2, 3]\n",
    "y_data = [1, 2, 3]\n",
    "\n",
    "W = tf.Variable(tf.random_uniform([1], -1.0, 1.0))\n",
    "b = tf.Variable(tf.random_uniform([1], -1.0, 1.0))\n",
    "\n",
    "# name : 나중에 텐서보드 등으로 값의 변화를 추적하거나 살펴보기 쉽게 하기 위해 이름을 붙임\n",
    "X = tf.placeholder(tf.float32, name = 'X')\n",
    "Y = tf.placeholder(tf.float32, name = 'Y')\n",
    "print(X)\n",
    "print(Y)\n",
    "\n",
    "# X와 Y의 상관관계를 분석하기 위한 가설 수식을 작성\n",
    "# y = W * X + b       # W와 X가 행렬이 아니므로 tf.matmul이 아니라 기본 곱셈 기호 사용\n",
    "hypothesis = W * X + b\n",
    "\n",
    "# 손실함수 작성\n",
    "# mean(h - Y)^2 : 예측값과 실제값의 거리를 비용함수(손실함수)로 작성\n",
    "cost = tf.reduce_mean(tf.square(hypothesis - Y))\n",
    "# 텐서플로우에 기본적으로 포함되어 있는 함수를 이용해 경사 하강법 최적화를 수행\n",
    "optimizer = tf.train.GradientDescentOptimizer(learning_rate = 0.1)\n",
    "# 비용을 최소화 하는 것이 최종 목표\n",
    "train_op = optimizer.minimize(cost)\n",
    "\n",
    "# 세션을 생성하고 초기화\n",
    "with tf.Session() as sess:\n",
    "    sess.run(tf.global_variables_initializer())\n",
    "    # 최적화를 100번 수행\n",
    "    for step in range(100):\n",
    "        # sess.rin을 통해 train_op와 cost 그래프를 계산\n",
    "        # 이 때, 가설 수식에 넣어야 할 실제값을 feed_dict를 통해 전달\n",
    "        -, cost_val = sess.run([train_op, cost], feed_dict = {X : x_data, Y : y_data})\n",
    "        print(step, cost_val, sess.run(W), sess.run(b))\n",
    "    # 최적화가 완료된 모델에 테스트 값을 넣고 결과가 잘 나오는지 확인\n",
    "    print('\\n=== Test===')\n",
    "    print('X : 5, Y : ', sess.run(hypothesis, feed_dict = {X : 5}))"
   ]
  },
  {
   "cell_type": "code",
   "execution_count": null,
   "metadata": {},
   "outputs": [],
   "source": []
  }
 ],
 "metadata": {
  "kernelspec": {
   "display_name": "Python 3",
   "language": "python",
   "name": "python3"
  },
  "language_info": {
   "codemirror_mode": {
    "name": "ipython",
    "version": 3
   },
   "file_extension": ".py",
   "mimetype": "text/x-python",
   "name": "python",
   "nbconvert_exporter": "python",
   "pygments_lexer": "ipython3",
   "version": "3.7.3"
  }
 },
 "nbformat": 4,
 "nbformat_minor": 4
}
