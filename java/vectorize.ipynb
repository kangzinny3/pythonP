{
 "cells": [
  {
   "cell_type": "code",
   "execution_count": 1,
   "metadata": {},
   "outputs": [],
   "source": [
    "from sklearn.feature_extraction.text import CountVectorizer"
   ]
  },
  {
   "cell_type": "code",
   "execution_count": null,
   "metadata": {},
   "outputs": [],
   "source": [
    "# CountVectorizer\n",
    "    # 문서를 토큰 리스트로 변환\n",
    "    # 각 문서의 토큰 출현 빈도를 카운트\n",
    "    # 각 문서의 BOW(Bag Of Words:단어들의 순서를 고려하지 않고, 출현 빈도에만 집중)를 벡터로 변환"
   ]
  },
  {
   "cell_type": "code",
   "execution_count": 2,
   "metadata": {},
   "outputs": [],
   "source": [
    "# min_df : 해당 값보다 빈도수가 낮은 단어는 무시\n",
    "# max_df : 해당 값보다 빈도수가 높은 단어는 무시\n",
    "vectorize = CountVectorizer(min_df=1)"
   ]
  },
  {
   "cell_type": "code",
   "execution_count": 3,
   "metadata": {},
   "outputs": [],
   "source": [
    "# 몇 가지 테스트\n",
    "contents = ['지은이랑 놀러가고 싶지만 바쁜데 어떡하죠?',\n",
    "            '지은이는 공원에서 산책하고 노는 것을 싫어해요.',\n",
    "            '지은이는 공원에서 노는 것도 싫어해요. 이상해요.',\n",
    "            '먼 곳으로 여행을 떠나고 싶은데 너무 바빠서 여행을 가지 못하고 있어요.']"
   ]
  },
  {
   "cell_type": "code",
   "execution_count": 4,
   "metadata": {},
   "outputs": [
    {
     "data": {
      "text/plain": [
       "(4, 22)"
      ]
     },
     "execution_count": 4,
     "metadata": {},
     "output_type": "execute_result"
    }
   ],
   "source": [
    "# 벡터화\n",
    "x = vectorize.fit_transform(contents)\n",
    "x.shape\n",
    "    # 결과 (4, 22)는 4행 22열을 뜻함"
   ]
  },
  {
   "cell_type": "code",
   "execution_count": 5,
   "metadata": {},
   "outputs": [
    {
     "name": "stdout",
     "output_type": "stream",
     "text": [
      "22\n",
      "{'지은이랑': 21, '놀러가고': 7, '싶지만': 15, '바쁜데': 11, '어떡하죠': 16, '지은이는': 20, '공원에서': 4, '산책하고': 12, '노는': 6, '것을': 2, '싫어해요': 13, '것도': 1, '이상해요': 18, '곳으로': 3, '여행을': 17, '떠나고': 8, '싶은데': 14, '너무': 5, '바빠서': 10, '가지': 0, '못하고': 9, '있어요': 19}\n"
     ]
    }
   ],
   "source": [
    "print(len(vectorize.vocabulary_))   # 사전화\n",
    "print(vectorize.vocabulary_)"
   ]
  },
  {
   "cell_type": "code",
   "execution_count": 6,
   "metadata": {},
   "outputs": [],
   "source": [
    "# 특정 feature 이름 확인\n",
    "tmp = vectorize.get_feature_names()   # 리스트로 리턴"
   ]
  },
  {
   "cell_type": "code",
   "execution_count": 7,
   "metadata": {},
   "outputs": [
    {
     "name": "stdout",
     "output_type": "stream",
     "text": [
      "22\n",
      "['가지', '것도', '것을', '곳으로', '공원에서', '너무', '노는', '놀러가고', '떠나고', '못하고', '바빠서', '바쁜데', '산책하고', '싫어해요', '싶은데', '싶지만', '어떡하죠', '여행을', '이상해요', '있어요', '지은이는', '지은이랑']\n"
     ]
    }
   ],
   "source": [
    "print(len(tmp))\n",
    "print(tmp)"
   ]
  },
  {
   "cell_type": "code",
   "execution_count": 8,
   "metadata": {},
   "outputs": [
    {
     "data": {
      "text/plain": [
       "array([[0, 0, 0, 0, 0, 0, 0, 1, 0, 0, 0, 1, 0, 0, 0, 1, 1, 0, 0, 0, 0, 1],\n",
       "       [0, 0, 1, 0, 1, 0, 1, 0, 0, 0, 0, 0, 1, 1, 0, 0, 0, 0, 0, 0, 1, 0],\n",
       "       [0, 1, 0, 0, 1, 0, 1, 0, 0, 0, 0, 0, 0, 1, 0, 0, 0, 0, 1, 0, 1, 0],\n",
       "       [1, 0, 0, 1, 0, 1, 0, 0, 1, 1, 1, 0, 0, 0, 1, 0, 0, 2, 0, 1, 0, 0]],\n",
       "      dtype=int64)"
      ]
     },
     "execution_count": 8,
     "metadata": {},
     "output_type": "execute_result"
    }
   ],
   "source": [
    "# 문장의 수\n",
    "x.toarray()"
   ]
  },
  {
   "cell_type": "code",
   "execution_count": 12,
   "metadata": {},
   "outputs": [
    {
     "name": "stdout",
     "output_type": "stream",
     "text": [
      "  (0, 16)\t1\n",
      "  (0, 11)\t1\n",
      "  (0, 15)\t1\n",
      "  (0, 7)\t1\n",
      "  (0, 21)\t1\n",
      "  (1, 13)\t1\n",
      "  (1, 2)\t1\n",
      "  (1, 6)\t1\n",
      "  (1, 12)\t1\n",
      "  (1, 4)\t1\n",
      "  (1, 20)\t1\n",
      "  (2, 18)\t1\n",
      "  (2, 1)\t1\n",
      "  (2, 13)\t1\n",
      "  (2, 6)\t1\n",
      "  (2, 4)\t1\n",
      "  (2, 20)\t1\n",
      "  (3, 19)\t1\n",
      "  (3, 9)\t1\n",
      "  (3, 0)\t1\n",
      "  (3, 10)\t1\n",
      "  (3, 5)\t1\n",
      "  (3, 14)\t1\n",
      "  (3, 8)\t1\n",
      "  (3, 17)\t2\n",
      "  (3, 3)\t1\n"
     ]
    }
   ],
   "source": [
    "print(x)"
   ]
  },
  {
   "cell_type": "code",
   "execution_count": 9,
   "metadata": {},
   "outputs": [
    {
     "data": {
      "text/plain": [
       "array([[0, 0, 0, 1],\n",
       "       [0, 0, 1, 0],\n",
       "       [0, 1, 0, 0],\n",
       "       [0, 0, 0, 1],\n",
       "       [0, 1, 1, 0],\n",
       "       [0, 0, 0, 1],\n",
       "       [0, 1, 1, 0],\n",
       "       [1, 0, 0, 0],\n",
       "       [0, 0, 0, 1],\n",
       "       [0, 0, 0, 1],\n",
       "       [0, 0, 0, 1],\n",
       "       [1, 0, 0, 0],\n",
       "       [0, 1, 0, 0],\n",
       "       [0, 1, 1, 0],\n",
       "       [0, 0, 0, 1],\n",
       "       [1, 0, 0, 0],\n",
       "       [1, 0, 0, 0],\n",
       "       [0, 0, 0, 2],\n",
       "       [0, 0, 1, 0],\n",
       "       [0, 0, 0, 1],\n",
       "       [0, 1, 1, 0],\n",
       "       [1, 0, 0, 0]], dtype=int64)"
      ]
     },
     "execution_count": 9,
     "metadata": {},
     "output_type": "execute_result"
    }
   ],
   "source": [
    "# 각 feature에 대한 벡터값\n",
    "x.toarray().transpose()    # 가지 : 인덱스0 -> [0, 0, 0, 1] 네 번째 문장에 한 번 나타남 (0이면 나타나지 않음, 1이면 나타남 표시)\n",
    "                           # 여행을 : 인덱스17 - > [0, 0, 0, 2] 네 번째 문장에 두 번 나타남"
   ]
  },
  {
   "cell_type": "code",
   "execution_count": 10,
   "metadata": {},
   "outputs": [
    {
     "data": {
      "text/plain": [
       "(4, 22)"
      ]
     },
     "execution_count": 10,
     "metadata": {},
     "output_type": "execute_result"
    }
   ],
   "source": [
    "# (4, 22) 언패킹\n",
    "x.shape\n",
    "    # 나중에 분리해서 써야할 경우 -> num_samples, num_features = x.shape 처럼 사용할 수 있음"
   ]
  },
  {
   "cell_type": "code",
   "execution_count": 11,
   "metadata": {},
   "outputs": [
    {
     "name": "stdout",
     "output_type": "stream",
     "text": [
      "1 (1, 22) [[0 0 0 0 1 0 0 0 0 0 0 0 1 0 0 0 0 0 0 0 0 2]]\n"
     ]
    }
   ],
   "source": [
    "# 신규 데이터 문장을 벡터로 만들어서 유사도 체크\n",
    "new_texts = ['지은이랑 공원에서 산책하고 지은이랑 놀고 싶어요.']\n",
    "new_texts_vec = vectorize.transform(new_texts)   # 벡터화 / .fit_transform은 사전화같은 다른 기능도 사용할 때\n",
    "tmp = new_texts_vec.toarray()\n",
    "print(len(tmp), tmp.shape, tmp)   # toarray - 특성이 문장 안에 있으면 1, 없으면 0"
   ]
  },
  {
   "cell_type": "code",
   "execution_count": 13,
   "metadata": {},
   "outputs": [],
   "source": [
    "# Scipy\n",
    "import scipy as sp"
   ]
  },
  {
   "cell_type": "code",
   "execution_count": 23,
   "metadata": {},
   "outputs": [],
   "source": [
    "def distance_vec(v1, v2):\n",
    "    delta = v1 - v2\n",
    "    return sp.linalg.norm(delta.toarray())    # 유클리드 노름 : 일반적으로 두 점 사이의 거리를 계산할 때 사용"
   ]
  },
  {
   "cell_type": "code",
   "execution_count": 24,
   "metadata": {},
   "outputs": [
    {
     "name": "stdout",
     "output_type": "stream",
     "text": [
      "  (0, 16)\t1\n",
      "  (0, 11)\t1\n",
      "  (0, 15)\t1\n",
      "  (0, 7)\t1\n",
      "  (0, 21)\t1\n"
     ]
    }
   ],
   "source": [
    "print(x.getrow(0))  # 문장 4개(인덱스 0-3) 중에서 첫 번째 문장(인덱스0)을 빼냄"
   ]
  },
  {
   "cell_type": "code",
   "execution_count": 25,
   "metadata": {},
   "outputs": [
    {
     "name": "stdout",
     "output_type": "stream",
     "text": [
      "[[0 0 0 0 0 0 0 1 0 0 0 1 0 0 0 1 1 0 0 0 0 1]]\n"
     ]
    }
   ],
   "source": [
    "print(x.getrow(0).toarray())"
   ]
  },
  {
   "cell_type": "code",
   "execution_count": 26,
   "metadata": {},
   "outputs": [
    {
     "name": "stdout",
     "output_type": "stream",
     "text": [
      "  (0, 4)\t1\n",
      "  (0, 12)\t1\n",
      "  (0, 21)\t2\n"
     ]
    }
   ],
   "source": [
    "print(new_texts_vec)"
   ]
  },
  {
   "cell_type": "code",
   "execution_count": 27,
   "metadata": {},
   "outputs": [
    {
     "name": "stdout",
     "output_type": "stream",
     "text": [
      "[[0 0 0 0 1 0 0 0 0 0 0 0 1 0 0 0 0 0 0 0 0 2]]\n"
     ]
    }
   ],
   "source": [
    "print(new_texts_vec.toarray())"
   ]
  },
  {
   "cell_type": "code",
   "execution_count": 28,
   "metadata": {},
   "outputs": [
    {
     "data": {
      "text/plain": [
       "2.6457513110645907"
      ]
     },
     "execution_count": 28,
     "metadata": {},
     "output_type": "execute_result"
    }
   ],
   "source": [
    "distance_vec(x.getrow(0), new_texts_vec)"
   ]
  },
  {
   "cell_type": "markdown",
   "metadata": {},
   "source": []
  },
  {
   "cell_type": "code",
   "execution_count": 29,
   "metadata": {},
   "outputs": [
    {
     "name": "stdout",
     "output_type": "stream",
     "text": [
      "최소거리 :  2.6457513110645907 0 지은이랑 놀러가고 싶지만 바쁜데 어떡하죠?\n"
     ]
    }
   ],
   "source": [
    "min_distance = 65536 - 1\n",
    "min_index = None\n",
    "for i in range(len(contents)):\n",
    "    dis = distance_vec(x.getrow(i), new_texts_vec)\n",
    "    if dis < min_distance:\n",
    "        min_distance = dis\n",
    "        min_index = i\n",
    "else:    # for문이 중간에 break등으로 끊기지 않고, 끝까지 수행되었을 때 실행하는 코드\n",
    "    print('최소거리 : ', min_distance, min_index, contents[min_index])"
   ]
  },
  {
   "cell_type": "code",
   "execution_count": 31,
   "metadata": {},
   "outputs": [],
   "source": [
    "import warnings\n",
    "warnings.filterwarnings('ignore')\n",
    "\n",
    "from konlpy.tag import Okt\n",
    "t = Okt()"
   ]
  },
  {
   "cell_type": "code",
   "execution_count": 32,
   "metadata": {},
   "outputs": [
    {
     "data": {
      "text/plain": [
       "['지은', '이랑', '놀러', '가고', '싶지만', '바쁜데', '어떡하죠', '?']"
      ]
     },
     "execution_count": 32,
     "metadata": {},
     "output_type": "execute_result"
    }
   ],
   "source": [
    "t.morphs(contents[0])"
   ]
  },
  {
   "cell_type": "code",
   "execution_count": 33,
   "metadata": {},
   "outputs": [
    {
     "data": {
      "text/plain": [
       "['지은이랑 놀러가고 싶지만 바쁜데 어떡하죠?',\n",
       " '지은이는 공원에서 산책하고 노는 것을 싫어해요.',\n",
       " '지은이는 공원에서 노는 것도 싫어해요. 이상해요.',\n",
       " '먼 곳으로 여행을 떠나고 싶은데 너무 바빠서 여행을 가지 못하고 있어요.']"
      ]
     },
     "execution_count": 33,
     "metadata": {},
     "output_type": "execute_result"
    }
   ],
   "source": [
    "contents"
   ]
  },
  {
   "cell_type": "code",
   "execution_count": 35,
   "metadata": {},
   "outputs": [
    {
     "data": {
      "text/plain": [
       "['지은 이랑 놀러 가고 싶지만 바쁜데 어떡하죠 ?',\n",
       " '지은이 는 공원 에서 산책 하고 노 는 것 을 싫어해요 .',\n",
       " '지은이 는 공원 에서 노 는 것 도 싫어해요 . 이상해요 .',\n",
       " '먼 곳 으로 여행 을 떠나고 싶은데 너무 바빠서 여행 을 가지 못 하고 있어요 .']"
      ]
     },
     "execution_count": 35,
     "metadata": {},
     "output_type": "execute_result"
    }
   ],
   "source": [
    "contents_ko_vectorize = [' '.join(t.morphs(content)) for content in contents]\n",
    "contents_ko_vectorize"
   ]
  },
  {
   "cell_type": "code",
   "execution_count": 36,
   "metadata": {},
   "outputs": [
    {
     "name": "stdout",
     "output_type": "stream",
     "text": [
      "(4, 22)\n"
     ]
    }
   ],
   "source": [
    "X = vectorize.fit_transform(contents_ko_vectorize)\n",
    "num_samples, num_features = X.shape\n",
    "print(X.shape)"
   ]
  },
  {
   "cell_type": "code",
   "execution_count": 37,
   "metadata": {},
   "outputs": [
    {
     "name": "stdout",
     "output_type": "stream",
     "text": [
      "['가고', '가지', '공원', '너무', '놀러', '떠나고', '바빠서', '바쁜데', '산책', '싫어해요', '싶은데', '싶지만', '어떡하죠', '에서', '여행', '으로', '이랑', '이상해요', '있어요', '지은', '지은이', '하고']\n"
     ]
    }
   ],
   "source": [
    "print(vectorize.get_feature_names())"
   ]
  },
  {
   "cell_type": "code",
   "execution_count": 38,
   "metadata": {},
   "outputs": [
    {
     "data": {
      "text/plain": [
       "['지은이랑 공원에서 산책하고 지은이랑 놀고 싶어요.']"
      ]
     },
     "execution_count": 38,
     "metadata": {},
     "output_type": "execute_result"
    }
   ],
   "source": [
    "new_texts"
   ]
  },
  {
   "cell_type": "code",
   "execution_count": 39,
   "metadata": {},
   "outputs": [
    {
     "data": {
      "text/plain": [
       "['지은 이랑 공원 에서 산책 하고 지은 이랑 놀고 싶어요 .']"
      ]
     },
     "execution_count": 39,
     "metadata": {},
     "output_type": "execute_result"
    }
   ],
   "source": [
    "new_texts_vectorize = [' '.join(t.morphs(txt)) for txt in new_texts]\n",
    "new_texts_vectorize"
   ]
  },
  {
   "cell_type": "code",
   "execution_count": null,
   "metadata": {},
   "outputs": [],
   "source": []
  }
 ],
 "metadata": {
  "kernelspec": {
   "display_name": "Python 3",
   "language": "python",
   "name": "python3"
  },
  "language_info": {
   "codemirror_mode": {
    "name": "ipython",
    "version": 3
   },
   "file_extension": ".py",
   "mimetype": "text/x-python",
   "name": "python",
   "nbconvert_exporter": "python",
   "pygments_lexer": "ipython3",
   "version": "3.7.3"
  }
 },
 "nbformat": 4,
 "nbformat_minor": 4
}
